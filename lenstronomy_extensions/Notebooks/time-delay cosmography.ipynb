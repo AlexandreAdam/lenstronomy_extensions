{
 "cells": [
  {
   "cell_type": "markdown",
   "metadata": {},
   "source": [
    "# Time delay-cosmography simulations"
   ]
  },
  {
   "cell_type": "raw",
   "metadata": {},
   "source": [
    "This notebook requires standard python libraries and the publicly available packages on github:\n",
    "\n",
    "- lenstronomy (https://github.com/sibirrer/lenstronomy)\n",
    "- fastell4py (https://github.com/sibirrer/fastell4py), based on the original fastell fortran code (by Barkana)\n",
    "\n",
    "The packages are based on Birrer, Amara & Refregier 2015 and an official release is planned with Birrer et al. (in prep)\n",
    "Installation for each package can be found on the github page.\n",
    "WARNING: a proper installation of fastell4py   needs a fortran compiler.\n",
    "This notebook has been tested with lenstronomy 0.0.3.\n",
    "\n",
    "For further information, please get in touch with the author of this notebook, Simon Birrer: sibirrer@gmail.com"
   ]
  },
  {
   "cell_type": "code",
   "execution_count": 1,
   "metadata": {
    "collapsed": true
   },
   "outputs": [],
   "source": [
    "# import of standard python libraries\n",
    "import numpy as np\n",
    "import os\n",
    "import time\n",
    "import corner\n",
    "import astropy.io.fits as pyfits\n",
    "\n",
    "plotting = True\n",
    "if plotting:\n",
    "    import matplotlib.pyplot as plt\n",
    "    from mpl_toolkits.axes_grid1 import make_axes_locatable\n",
    "    %matplotlib inline"
   ]
  },
  {
   "cell_type": "markdown",
   "metadata": {
    "collapsed": true
   },
   "source": [
    "## simulation choices"
   ]
  },
  {
   "cell_type": "code",
   "execution_count": 2,
   "metadata": {},
   "outputs": [
    {
     "name": "stderr",
     "output_type": "stream",
     "text": [
      "WARNING: AstropyDeprecationWarning: Config parameter 'enabled_record_valued_keyword_cards' in section [io.fits] of the file '/Users/sibirrer/.astropy/config/astropy.cfg' is deprecated. Use 'enable_record_valued_keyword_cards' in section [io.fits] instead. [astropy.config.configuration]\n",
      "/Users/sibirrer/Library/Python/2.7/lib/python/site-packages/ipykernel/__main__.py:20: RuntimeWarning: divide by zero encountered in log10\n"
     ]
    },
    {
     "data": {
      "image/png": "[encoded data removed]",
      "text/plain": [
       "<matplotlib.figure.Figure at 0x10c44abd0>"
      ]
     },
     "metadata": {},
     "output_type": "display_data"
    }
   ],
   "source": [
    "# import main simulation class of lenstronomy\n",
    "from lenstronomy.SimulationAPI.simulations import Simulation\n",
    "SimAPI = Simulation()\n",
    "\n",
    "# define lens configuration and cosmology (not for lens modelling)\n",
    "z_lens = 0.5\n",
    "z_source = 1.5\n",
    "from astropy.cosmology import FlatLambdaCDM\n",
    "cosmo = FlatLambdaCDM(H0=70, Om0=0.3, Ob0=0.)\n",
    "\n",
    "\n",
    "# import PSF file\n",
    "path = os.getcwd()\n",
    "dirpath, _ = os.path.split(path)\n",
    "module_path, _ = os.path.split(dirpath)\n",
    "psf_filename = os.path.join(module_path, 'Data/PSF_TinyTim/psf_example.fits')\n",
    "kernel = pyfits.getdata(psf_filename)\n",
    "\n",
    "if plotting:\n",
    "    plt.matshow(np.log10(kernel))\n",
    "    plt.show()\n",
    "\n",
    "\n",
    "    \n",
    "    \n",
    "# data specifics\n",
    "sigma_bkg = .01  #  background noise per pixel (Gaussian)\n",
    "exp_time = 100.  #  exposure time (arbitrary units, flux per pixel is in units #photons/exp_time unit)\n",
    "numPix = 100  #  cutout pixel size\n",
    "deltaPix = 0.05  #  pixel size in arcsec (area per pixel = deltaPix**2)\n",
    "fwhm = 0.1  # full width half max of PSF (only valid when psf_type='gaussian')\n",
    "psf_type = 'pixel'  # 'gaussian', 'pixel', 'NONE'\n",
    "kernel_size = 91\n",
    "\n",
    "# initial input simulation\n",
    "\n",
    "# generate the coordinate grid and image properties\n",
    "kwargs_data_single = SimAPI.data_configure(numPix, deltaPix, exp_time, sigma_bkg)\n",
    "# generate the psf variables\n",
    "kwargs_psf_single = SimAPI.psf_configure(psf_type=psf_type, fwhm=fwhm, kernelsize=kernel_size, deltaPix=deltaPix, truncate=3, kernel=kernel)\n",
    "\n"
   ]
  },
  {
   "cell_type": "code",
   "execution_count": 3,
   "metadata": {},
   "outputs": [
    {
     "name": "stdout",
     "output_type": "stream",
     "text": [
      "('the time delays for the images at position ', array([-1.29583094,  0.99592927,  0.27669797,  1.4596848 ]), array([-0.34513872,  1.29702629,  1.66741547, -1.36284606]), 'are: ', array([ -86.01104926, -134.7112631 , -135.48467494, -165.3661448 ]))\n",
      "(array([ 236.66782542]), 'velocity dispersion in km/s')\n"
     ]
    }
   ],
   "source": [
    "# lensing quantities\n",
    "kwargs_shear = {'e1': 0.0, 'e2': -0.1}  # shear values to the source plane\n",
    "kwargs_spemd = {'theta_E': 1.66, 'gamma': 2, 'center_x': 0.0, 'center_y': 0, 'q': .8, 'phi_G': 0.}  # parameters of the deflector lens model\n",
    "\n",
    "# choice of source type\n",
    "source_type = 'SERSIC'  # 'SERSIC' or 'SHAPELETS'\n",
    "\n",
    "source_x = 0.2\n",
    "source_y = 0\n",
    "\n",
    "\n",
    "# Sersic parameters in the initial simulation\n",
    "kwargs_sersic_source = {'I0_sersic': 4, 'R_sersic': 0.05, 'n_sersic': 1, 'q': .8, 'phi_G': 0.5, 'center_x': source_x, 'center_y': source_y}\n",
    "kwargs_else = {'sourcePos_x': source_x, 'sourcePos_y': source_y, 'quasar_amp': 400., 'gamma1_foreground': 0.0, 'gamma2_foreground':-0.0}\n",
    "\n",
    "\n",
    "source_model_list = ['SERSIC_ELLIPSE']\n",
    "kwargs_source_list = [kwargs_sersic_source]\n",
    "\n",
    "\n",
    "# lens light model\n",
    "kwargs_sersic_lens = {'I0_sersic': 20, 'R_sersic': 0.2, 'n_sersic': 2, 'q': .9, 'phi_G': 0.9, 'center_x': 0.0, 'center_y': 0}\n",
    "lens_light_model_list = ['SERSIC_ELLIPSE']\n",
    "kwargs_lens_light_list = [kwargs_sersic_lens]\n",
    "\n",
    "\n",
    "\n",
    "# the lens model is a supperposition of an elliptical lens model with external shear\n",
    "lens_model_list = ['SPEMD', 'SHEAR']\n",
    "kwargs_lens_list = [kwargs_spemd, kwargs_shear]\n",
    "\n",
    "kwargs_options = {'lens_model_list': lens_model_list, \n",
    "                 'lens_light_model_list': lens_light_model_list,\n",
    "                 'source_light_model_list': source_model_list,\n",
    "                 'foreground_shear': False,  # we don't explicitly model the non-linear shear components\n",
    "                  'subgrid_res': 2,  # numerical precision in the ray-tracing. Possibility of sub-pixel precision exists\n",
    "                  'psf_subgrid': True,  # subgrid convolution kernel\n",
    "                  'point_source': True,  # modelling point sources\n",
    "                  'solver': True,  # solves the 4-image point source configuration with a non-linear solver\n",
    "                  #'num_images': 4\n",
    "                 }\n",
    "\n",
    "# generate image\n",
    "image_real_lensed_shear = SimAPI.im_sim(kwargs_options, kwargs_data_single, kwargs_psf_single, kwargs_lens_list, kwargs_source_list, kwargs_lens_light_list, kwargs_else)\n",
    "# update kwargs_data with the newly generated mock\n",
    "kwargs_data_single['image_data'] = image_real_lensed_shear\n",
    "\n",
    "from lenstronomy.Analysis.lens_properties import LensProp\n",
    "lensProp = LensProp(z_lens, z_source, kwargs_options, kwargs_data_single, cosmo=cosmo)\n",
    "\n",
    "# time delays\n",
    "dt_days = lensProp.time_delays(kwargs_lens_list, kwargs_else, kappa_ext=0)\n",
    "print(\"the time delays for the images at position \", kwargs_else['ra_pos'], kwargs_else['dec_pos'], \"are: \",dt_days)\n",
    "\n",
    "\n",
    "# kinematics\n",
    "\n",
    "R_slit = 1. # slit length in arcsec\n",
    "dR_slit = 1.  # slit width in arcsec\n",
    "psf_fwhm = 0.7\n",
    "num_evaluate = 1000  # numerical ray-shooting, should converge -> infinity\n",
    "kwargs_aperture = {'length': R_slit, 'width': dR_slit, 'center_ra': 0.05, 'center_dec': 0, 'angle': 0}\n",
    "anisotropy_model = 'OsipkovMerritt'\n",
    "aperture_type = 'slit'\n",
    "\n",
    "r_ani = 1.\n",
    "r_eff = 0.2\n",
    "kwargs_anisotropy = {'r_ani': r_ani}\n",
    "\n",
    "vel_disp = lensProp.velocity_disperson_new(kwargs_lens_list, kwargs_lens_light_list, kwargs_else, kwargs_anisotropy, kwargs_aperture, psf_fwhm, aperture_type, anisotropy_model, MGE_light=True, MGE_mass=True, r_eff=r_eff)\n",
    "print(vel_disp, 'velocity dispersion in km/s')"
   ]
  },
  {
   "cell_type": "code",
   "execution_count": 4,
   "metadata": {},
   "outputs": [
    {
     "name": "stderr",
     "output_type": "stream",
     "text": [
      "/Users/sibirrer/Library/Python/2.7/lib/python/site-packages/ipykernel/__main__.py:15: RuntimeWarning: invalid value encountered in log10\n"
     ]
    },
    {
     "data": {
      "image/png": "[encoded data removed]",
      "text/plain": [
       "<matplotlib.figure.Figure at 0x10d869b10>"
      ]
     },
     "metadata": {},
     "output_type": "display_data"
    }
   ],
   "source": [
    "# display the initial simulated image\n",
    "if plotting:\n",
    "    cmap_string = 'gray'\n",
    "    cmap = plt.get_cmap(cmap_string)\n",
    "    cmap.set_bad(color='k', alpha=1.)\n",
    "    cmap.set_under('k')\n",
    "\n",
    "    v_min = -4\n",
    "    v_max = 2\n",
    "\n",
    "    f, axes = plt.subplots(1, 1, figsize=(6, 6), sharex=False, sharey=False)\n",
    "\n",
    "    # sequence of weak lensing\n",
    "    ax = axes\n",
    "    im = ax.matshow(np.log10(image_real_lensed_shear), origin='lower', vmin=v_min, vmax=v_max, cmap=cmap, extent=[0, 1, 0, 1])\n",
    "    ax.get_xaxis().set_visible(False)\n",
    "    ax.get_yaxis().set_visible(False)\n",
    "    ax.autoscale(False)\n",
    "\n",
    "    plt.show()"
   ]
  },
  {
   "cell_type": "markdown",
   "metadata": {},
   "source": [
    "## Model and parameter choices"
   ]
  },
  {
   "cell_type": "code",
   "execution_count": null,
   "metadata": {
    "collapsed": true
   },
   "outputs": [],
   "source": [
    "# lens model choicers\n",
    "lens_model_list = []\n",
    "fixed_lens = []\n",
    "kwargs_lens_init = []\n",
    "kwargs_lens_sigma = []\n",
    "kwargs_lower_lens = []\n",
    "kwargs_upper_lens = []\n",
    "\n",
    "lens_model_list.append('SPEMD')\n",
    "fixed_lens.append({}) \n",
    "#kwargs_lens_init.append({'theta_E': 1.5, 'gamma': 2, 'center_x': 0.0, 'center_y': 0, 'q': 1., 'phi_G': 0.})\n",
    "kwargs_lens_init.append(kwargs_spemd)\n",
    "kwargs_lens_sigma.append({'theta_E_sigma': .1, 'ellipse_sigma':0.1, 'gamma_sigma': 0.2, 'center_x_sigma': 0.1, 'center_y_sigma': 0.1})\n",
    "kwargs_lower_lens.append({'theta_E': 0.01,'q': .5, 'gamma': 1.5, 'phi_G': 0., 'center_x': -10, 'center_y': -10})\n",
    "kwargs_upper_lens.append({'theta_E': 10,'q': .5, 'gamma': 2.5, 'phi_G': 0., 'center_x': 10, 'center_y': 10})\n",
    "\n",
    "lens_model_list.append('SHEAR')\n",
    "fixed_lens.append({})\n",
    "#kwargs_lens_init.append({'e1': 0.0, 'e2': 0.0})\n",
    "kwargs_lens_init.append(kwargs_shear)\n",
    "kwargs_lens_sigma.append({'shear_sigma': 0.1})\n",
    "kwargs_lower_lens.append({'e1': -0.2, 'e2': -0.2})\n",
    "kwargs_upper_lens.append({'e1': 0.2, 'e2': 0.2})\n",
    "\n",
    "\n",
    "# lens light model choices\n",
    "lens_light_model_list = []\n",
    "fixed_lens_light = []\n",
    "kwargs_lens_light_init = []\n",
    "kwargs_lens_light_sigma = []\n",
    "kwargs_lower_lens_light = []\n",
    "kwargs_upper_lens_light = []\n",
    "\n",
    "lens_light_model_list.append('SERSIC_ELLIPSE')\n",
    "fixed_lens_light.append({})\n",
    "#kwargs_lens_light_init.append({'R_sersic': 0.5, 'n_sersic': 1, 'q': 1., 'phi_G': 0., 'center_x': 0, 'center_y': 0})\n",
    "kwargs_lens_light_init.append(kwargs_sersic_lens)\n",
    "kwargs_lens_light_sigma.append({'n_sersic_sigma': 0.5, 'R_sersic_sigma': 0.2, 'ellipse_sigma': 0.1, 'center_x_sigma': 0.1, 'center_y_sigma': 0.1})\n",
    "kwargs_lower_lens_light.append({'q': .5, 'phi_G': 0, 'R_sersic': 0.01, 'n_sersic': 0.5, 'center_x': -10, 'center_y': -10})\n",
    "kwargs_upper_lens_light.append({'q': .5, 'phi_G': 0, 'R_sersic': 10, 'n_sersic': 8, 'center_x': 10, 'center_y': 10})\n",
    "\n",
    "\n",
    "source_model_list = []\n",
    "fixed_source = []\n",
    "kwargs_source_init = []\n",
    "kwargs_source_sigma = []\n",
    "kwargs_lower_source = []\n",
    "kwargs_upper_source = []\n",
    "\n",
    "source_model_list.append('SERSIC_ELLIPSE')\n",
    "fixed_source.append({})\n",
    "#kwargs_source_init.append({'R_sersic': 0.1, 'n_sersic': 1, 'q': 1., 'phi_G': 0., 'center_x': 0, 'center_y': 0})\n",
    "kwargs_source_init.append(kwargs_sersic_source)\n",
    "kwargs_source_sigma.append({'n_sersic_sigma': 0.5, 'R_sersic_sigma': 0.1, 'ellipse_sigma': 0.1, 'center_x_sigma': 0.1, 'center_y_sigma': 0.1})\n",
    "kwargs_lower_source.append({'q': .5, 'phi_G': 0, 'R_sersic': 0.001, 'n_sersic': .5, 'center_x': -10, 'center_y': -10})\n",
    "kwargs_upper_source.append({'q': .5, 'phi_G': 0, 'R_sersic': 10, 'n_sersic': 5., 'center_x': 10, 'center_y': 10})\n",
    "\n",
    "\n",
    "fixed_else = {}\n",
    "kwargs_else_init = kwargs_else\n",
    "kwargs_else_sigma = {'shear_foreground_sigma': 0.01, 'pos_sigma': 0.01}\n",
    "kwargs_lower_else = {'ra_pos': -10 * np.ones(len(kwargs_else['ra_pos'])), 'dec_pos': -10 * np.ones(len(kwargs_else['ra_pos'])), 'gamma1_foreground': -0.2, 'gamma2_foreground': -0.2}\n",
    "kwargs_upper_else = {'ra_pos': 10* np.ones(len(kwargs_else['ra_pos'])), 'dec_pos': 10 * np.ones(len(kwargs_else['ra_pos'])), 'gamma1_foreground': 0.2, 'gamma2_foreground': 0.2}\n",
    "\n",
    "kwargs_fixed = [fixed_lens, fixed_source, fixed_lens_light, fixed_else]\n",
    "kwargs_init = [kwargs_lens_init, kwargs_source_init, kwargs_lens_light_init, kwargs_else_init]\n",
    "kwargs_sigma = [kwargs_lens_sigma, kwargs_source_sigma, kwargs_lens_light_sigma, kwargs_else_sigma]\n",
    "kwargs_lower = [kwargs_lower_lens, kwargs_lower_source, kwargs_lower_lens_light, kwargs_lower_else]\n",
    "kwargs_upper = [kwargs_upper_lens, kwargs_upper_source, kwargs_upper_lens_light, kwargs_upper_else]\n",
    "\n"
   ]
  },
  {
   "cell_type": "code",
   "execution_count": null,
   "metadata": {},
   "outputs": [
    {
     "name": "stderr",
     "output_type": "stream",
     "text": [
      "/Users/sibirrer/Library/Python/2.7/lib/python/site-packages/scipy/optimize/minpack.py:161: RuntimeWarning: The iteration is not making good progress, as measured by the \n",
      "  improvement from the last ten iterations.\n",
      "  warnings.warn(msg, RuntimeWarning)\n",
      "/Users/sibirrer/Library/Python/2.7/lib/python/site-packages/numpy/linalg/linalg.py:1487: RuntimeWarning: divide by zero encountered in true_divide\n",
      "  return s[..., 0]/s[..., -1]\n"
     ]
    },
    {
     "name": "stdout",
     "output_type": "stream",
     "text": [
      "Computing the combined ...\n"
     ]
    },
    {
     "name": "stderr",
     "output_type": "stream",
     "text": [
      "/Users/sibirrer/Library/Python/2.7/lib/python/site-packages/scipy/optimize/minpack.py:161: RuntimeWarning: The iteration is not making good progress, as measured by the \n",
      "  improvement from the last five Jacobian evaluations.\n",
      "  warnings.warn(msg, RuntimeWarning)\n"
     ]
    },
    {
     "name": "stdout",
     "output_type": "stream",
     "text": [
      "10\n",
      "20\n",
      "30\n",
      "40\n",
      "50\n",
      "60\n",
      "70\n",
      "80\n",
      "90\n",
      "100\n",
      "max iteration reached! stoping\n",
      "(-1.0046718698379766, 'reduced X^2 of best position')\n",
      "(9978, 'effective number of data points')\n",
      "([{'theta_E': 1.6606821760033494, 'q': 0.79949079381200672, 'center_x': -0.00098204173308416055, 'center_y': -0.00014044035674713786, 'phi_G': 0.0021732624009173237, 'gamma': 1.9827530446156483}, {'e1': 0.0020963715816250425, 'e2': -0.098320977394963829}], 'lens result')\n",
      "([{'q': 0.79833434398048342, 'I0_sersic': 1, 'n_sersic': 1.0001041219296478, 'center_x': 0.19625786462524547, 'center_y': -1.7111176132914019e-05, 'phi_G': 0.58694471696416217, 'R_sersic': 0.049655613769130712}], 'source result')\n",
      "([{'q': 0.90285673007056477, 'I0_sersic': 1, 'n_sersic': 2.0442035401957908, 'center_x': 2.8365164858264691e-05, 'center_y': 0.00024999371757575403, 'phi_G': 0.90872579788019592, 'R_sersic': 0.20047619750947943}], 'lens light result')\n",
      "({'point_amp': array([ 1.,  1.,  1.,  1.]), 'ra_pos': array([-1.29579587,  0.99588466,  0.27678359,  1.45992376]), 'dec_pos': array([-0.34542656,  1.29706042,  1.66743934, -1.36294347])}, 'else result')\n",
      "(576.1811499595642, 'time used for PSO', 'combined')\n",
      "Computing the MCMC...\n",
      "('Number of walkers = ', 150)\n",
      "('Burn-in iterations: ', 100)\n",
      "('Sampling iterations:', 100)\n"
     ]
    },
    {
     "name": "stderr",
     "output_type": "stream",
     "text": [
      "/Users/sibirrer/Library/Python/2.7/lib/python/site-packages/emcee/ensemble.py:335: RuntimeWarning: invalid value encountered in subtract\n",
      "  lnpdiff = (self.dim - 1.) * np.log(zz) + newlnprob - lnprob0\n",
      "/Users/sibirrer/Library/Python/2.7/lib/python/site-packages/emcee/ensemble.py:336: RuntimeWarning: invalid value encountered in greater\n",
      "  accept = (lnpdiff > np.log(self._random.rand(len(lnpdiff))))\n"
     ]
    }
   ],
   "source": [
    "# numerical options and fitting sequences\n",
    "\n",
    "kwargs_options = {'lens_model_list': lens_model_list, \n",
    "                 'lens_light_model_list': lens_light_model_list,\n",
    "                 'source_light_model_list': source_model_list,\n",
    "                 'foreground_shear': False,  # we don't explicitly model the non-linear shear components\n",
    "                  'subgrid_res': 2,  # numerical precision in the ray-tracing. Possibility of sub-pixel precision exists\n",
    "                  'psf_subgrid': True,  # subgrid convolution kernel\n",
    "                  'point_source': True,  # modelling point sources\n",
    "                  'solver': True,  # solves the 4-image point source configuration with a non-linear solver\n",
    "                  'num_images': 4\n",
    "                 }\n",
    "\n",
    "from lenstronomy.Workflow.fitting_sequence import FittingSequence\n",
    "\n",
    "mpi = False  # MPI possible, but not supported through that notebook.\n",
    "\n",
    "fitting_kwargs_list = [\n",
    "        #{'fitting_routine': 'lens_only', 'mpi': mpi, 'sigma_scale': 1, 'n_particles': n_p, 'n_iterations': n_i},\n",
    "        #{'fitting_routine': 'lens_fixed', 'mpi': mpi, 'sigma_scale': 1., 'n_particles': n_p, 'n_iterations': n_i},\n",
    "        #{'fitting_routine': 'lens_light_only', 'mpi': mpi, 'sigma_scale': .1, 'n_particles': n_p, 'n_iterations': n_i},\n",
    "        #{'fitting_routine': 'source_only', 'mpi': mpi, 'sigma_scale': .1, 'n_particles': n_p, 'n_iterations': n_i},\n",
    "        #{'fitting_routine': 'lens_combined_gamma_fixed', 'mpi': mpi, 'sigma_scale': 1., 'n_particles': n_p, 'n_iterations': n_i},\n",
    "        #{'fitting_routine': 'psf_iteration', 'psf_iter_num': psf_iter_num, 'psf_iter_factor': psf_iter_factor}, \n",
    "\n",
    "        {'fitting_routine': 'lens_combined', 'mpi': mpi, 'sigma_scale': 1., 'n_particles': 100, 'n_iterations': 100},   \n",
    "        {'fitting_routine': 'MCMC', 'n_burn': 100, 'n_run': 100, 'walkerRatio': 10, 'mpi': mpi, 'sigma_scale': 1.}\n",
    "        ]\n",
    "\n",
    "\n",
    "kwargs_data = [kwargs_data_single]\n",
    "kwargs_psf = [kwargs_psf_single]\n",
    "init_samples = None\n",
    "\n",
    "start_time = time.time()\n",
    "fitting_seq = FittingSequence(kwargs_data, kwargs_psf, kwargs_options, kwargs_init, kwargs_sigma, kwargs_fixed, kwargs_lower, kwargs_upper)\n",
    "lens_result, source_result, lens_light_result, else_result, chain_list, param_list, samples_mcmc, param_mcmc, dist_mcmc = fitting_seq.fit_sequence(fitting_kwargs_list)\n",
    "kwargs_psf_out = fitting_seq.kwargs_psf\n",
    "output_ = [lens_result, source_result, lens_light_result, else_result, kwargs_psf_out, chain_list, param_list, samples_mcmc, param_mcmc, dist_mcmc]\n",
    "input_ = [kwargs_data, kwargs_psf, kwargs_options, kwargs_init, kwargs_sigma, kwargs_fixed, kwargs_lower, kwargs_upper, fitting_kwargs_list, init_samples]\n",
    "\n",
    "end_time = time.time()\n",
    "print(end_time - start_time, 'total time needed for computation')\n",
    "print('============ CONGRATULATION, YOUR JOB WAS SUCCESSFUL ================ ')"
   ]
  },
  {
   "cell_type": "markdown",
   "metadata": {
    "collapsed": true
   },
   "source": [
    "## analyse model output"
   ]
  },
  {
   "cell_type": "code",
   "execution_count": null,
   "metadata": {
    "collapsed": true
   },
   "outputs": [],
   "source": [
    "import lenstronomy_extensions.Plots.output_plots as out_plot\n",
    "\n",
    "kwargs_data, kwargs_psf, kwargs_options, kwargs_init, kwargs_sigma, kwargs_fixed, kwargs_lower, kwargs_upper, fitting_kwargs_list, init_samples = input_\n",
    "lens_result, source_result, lens_light_result, else_result, kwargs_psf, chain_list, param_list, samples_mcmc, param_mcmc, dist_mcmc = output_\n",
    "\n",
    "\n",
    "band_i = 0\n",
    "from lenstronomy_extensions.Plots.output_plots import LensModelPlot\n",
    "lensPlot = LensModelPlot(kwargs_options, kwargs_data[band_i], kwargs_psf[band_i], lens_result, source_result, lens_light_result,\n",
    "                        else_result, arrow_size=0.02, cmap_string=\"gist_heat\", high_res=5)\n",
    "    \n",
    "if plotting: \n",
    "    \n",
    "    for i in range(len(chain_list)):\n",
    "        if len(param_list[i]) > 0:\n",
    "            f, axes = out_plot.plot_chain(chain_list[i], param_list[i])\n",
    "    \n",
    "    f, axes = plt.subplots(2, 3, figsize=(16, 8), sharex=False, sharey=False)\n",
    "\n",
    "    lensPlot.data_plot(ax=axes[0,0])\n",
    "    lensPlot.model_plot(ax=axes[0,1])\n",
    "    lensPlot.normalized_residual_plot(ax=axes[0,2], v_min=-6, v_max=6)\n",
    "    lensPlot.source_plot(ax=axes[1, 0],convolution=False, deltaPix_source=0.01, numPix=100)\n",
    "    lensPlot.convergence_plot(ax=axes[1, 1], v_max=1)\n",
    "    lensPlot.magnification_plot(ax=axes[1, 2])\n",
    "    f.tight_layout()\n",
    "    f.subplots_adjust(left=None, bottom=None, right=None, top=None, wspace=0., hspace=0.05)\n",
    "    plt.show()\n",
    "    \n",
    "    f, axes = plt.subplots(2, 3, figsize=(16, 8), sharex=False, sharey=False)\n",
    "\n",
    "    lensPlot.decomposition_plot(ax=axes[0,0], text='Lens light', lens_light_add=True, unconvolved=True)\n",
    "    lensPlot.decomposition_plot(ax=axes[1,0], text='Lens light convolved', lens_light_add=True)\n",
    "    lensPlot.decomposition_plot(ax=axes[0,1], text='Source light', source_add=True, unconvolved=True)\n",
    "    lensPlot.decomposition_plot(ax=axes[1,1], text='Source light convolved', source_add=True)\n",
    "    lensPlot.decomposition_plot(ax=axes[0,2], text='All components', source_add=True, lens_light_add=True, unconvolved=True)\n",
    "    lensPlot.decomposition_plot(ax=axes[1,2], text='All components convolved', source_add=True, lens_light_add=True, point_source_add=True)\n",
    "    f.tight_layout()\n",
    "    f.subplots_adjust(left=None, bottom=None, right=None, top=None, wspace=0., hspace=0.05)\n",
    "    plt.show()\n",
    "    print lens_result, source_result, lens_light_result\n",
    "    \n",
    "    f, axes = plt.subplots(2, 3, figsize=(16, 8), sharex=False, sharey=False)\n",
    "\n",
    "    lensPlot.subtract_from_data_plot(ax=axes[0,0], text='Data')\n",
    "    lensPlot.subtract_from_data_plot(ax=axes[0,1], text='Data - Point Source', point_source_add=True)\n",
    "    lensPlot.subtract_from_data_plot(ax=axes[0,2], text='Data - Lens Light', lens_light_add=True)\n",
    "    lensPlot.subtract_from_data_plot(ax=axes[1,0], text='Data - Source Light', source_add=True)\n",
    "    lensPlot.subtract_from_data_plot(ax=axes[1,1], text='Data - Source Light - Point Source', source_add=True, point_source_add=True)\n",
    "    lensPlot.subtract_from_data_plot(ax=axes[1,2], text='Data - Lens Light - Point Source', lens_light_add=True, point_source_add=True)\n",
    "    f.tight_layout()\n",
    "    f.subplots_adjust(left=None, bottom=None, right=None, top=None, wspace=0., hspace=0.05)\n",
    "    plt.show()\n"
   ]
  },
  {
   "cell_type": "code",
   "execution_count": null,
   "metadata": {
    "collapsed": true
   },
   "outputs": [],
   "source": [
    "# the results of the MCMC chain, split in two corner plots\n",
    "\n",
    "print \"number of non-linear parameters in the MCMC process: \", len(param_mcmc)\n",
    "print \"parameters in order: \", param_mcmc\n",
    "print \"number of evaluations in the MCMC process: \", np.shape(samples_mcmc)[0]\n",
    "if not samples_mcmc == []:\n",
    "    if plotting:\n",
    "        n, num_param = np.shape(samples_mcmc)\n",
    "        plot = corner.corner(samples_mcmc[:,:8], labels=param_mcmc[:8], show_titles=True)\n",
    "        plot = corner.corner(samples_mcmc[:,8:], labels=param_mcmc[8:], show_titles=True)"
   ]
  },
  {
   "cell_type": "code",
   "execution_count": null,
   "metadata": {
    "collapsed": true
   },
   "outputs": [],
   "source": []
  },
  {
   "cell_type": "code",
   "execution_count": null,
   "metadata": {
    "collapsed": true
   },
   "outputs": [],
   "source": []
  }
 ],
 "metadata": {
  "kernelspec": {
   "display_name": "Python 2",
   "language": "python",
   "name": "python2"
  },
  "language_info": {
   "codemirror_mode": {
    "name": "ipython",
    "version": 2
   },
   "file_extension": ".py",
   "mimetype": "text/x-python",
   "name": "python",
   "nbconvert_exporter": "python",
   "pygments_lexer": "ipython2",
   "version": "2.7.10"
  }
 },
 "nbformat": 4,
 "nbformat_minor": 1
}
