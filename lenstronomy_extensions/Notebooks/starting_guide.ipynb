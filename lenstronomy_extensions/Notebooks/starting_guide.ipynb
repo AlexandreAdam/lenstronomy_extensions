{
 "cells": [
  {
   "cell_type": "markdown",
   "metadata": {},
   "source": [
    "# *lenstronomy* starting guide\n",
    "\n",
    "With this notebook, we describe the basic functionalities of the most important modules of *lenstronomy* with some simple examples. More detailed information about the available routines and their use can be accessed through the online documentation and in other jupyter notebooks."
   ]
  },
  {
   "cell_type": "code",
   "execution_count": null,
   "metadata": {
    "collapsed": true
   },
   "outputs": [],
   "source": [
    "# some standard python imports #\n",
    "import numpy as np\n",
    "import matplotlib.pyplot as plt\n",
    "%matplotlib inline"
   ]
  },
  {
   "cell_type": "markdown",
   "metadata": {},
   "source": [
    "## $\\texttt{LensModel}$ module\n",
    "$\\texttt{LensModel}$ and its sub-packages execute all the purely lensing related tasks of *lenstronomy*. This includes ray-shooting, solving the lens equation, arrival time computation and non-linear solvers to optimize lens models for specific image configurations. The module allows consistent integration with single and multi plane lensing and an arbitrary superpositions of lens models. There is a wide range of lens models available. For details we refer to to the online-documentation."
   ]
  },
  {
   "cell_type": "markdown",
   "metadata": {},
   "source": [
    "### Single plane lensing\n",
    "As an example of initializing a single plane lens model as a super-position of an elliptical power-law potential and a singular isothermal sphere mass distribution and execute some basic routines:"
   ]
  },
  {
   "cell_type": "code",
   "execution_count": null,
   "metadata": {
    "collapsed": true
   },
   "outputs": [],
   "source": [
    "# import the LensModel class #\n",
    "from lenstronomy.LensModel.lens_model import LensModel\n",
    "\n",
    "# specify the choice of lens models #\n",
    "lens_model_list = ['SPEP', 'SHEAR', 'SIS']\n",
    "\n",
    "# setup lens model class with the list of lens models #\n",
    "lensModel = LensModel(lens_model_list=lens_model_list)\n",
    "\n",
    "# define parameter values of lens models #\n",
    "kwargs_spep = {'theta_E': 1., 'q': 0.9, 'phi_G': 0.5, 'gamma': 2., 'center_x': 0.1, 'center_y': 0}\n",
    "kwargs_shear = {'e1': 0.01, 'e2': 0.0}\n",
    "kwargs_sis2 = {'theta_E': 0.2, 'center_x': 1., 'center_y': -0.1}\n",
    "kwargs_lens = [kwargs_spep, kwargs_shear, kwargs_sis2]\n",
    "\n",
    "# image plane coordinate #\n",
    "theta_ra, theta_dec = 1.4, .3\n",
    "\n",
    "# source plane coordinate #\n",
    "beta_ra, beta_dec = lensModel.ray_shooting(theta_ra, theta_dec, kwargs_lens)\n",
    "# Fermat potential #\n",
    "fermat_pot = lensModel.fermat_potential(x_image=theta_ra, y_image=theta_dec, x_source=beta_ra, y_source=beta_dec, kwargs_lens=kwargs_lens)\n",
    "\n",
    "# Magnification #\n",
    "mag = lensModel.magnification(theta_ra, theta_dec, kwargs_lens)"
   ]
  },
  {
   "cell_type": "markdown",
   "metadata": {},
   "source": [
    "Additionally, the $\\texttt{LensModel}$ class allows to compute the Hessian matrix, shear and convergence, deflection angle and lensing potential. These routines are fully compatible with the numpy array structure and as a superposition of an arbitrary number of single lens models."
   ]
  },
  {
   "cell_type": "markdown",
   "metadata": {},
   "source": [
    "### Multi-plane lensing\n",
    "\n",
    "The multi-plane setting of $\\texttt{LensModel}$ allows to place the different deflector models at different redshfits. When not further specified, the default cosmology of the $\\texttt{astropy}$ cosmology class. The interface to access the lensing functionalities remains the same:"
   ]
  },
  {
   "cell_type": "code",
   "execution_count": null,
   "metadata": {
    "collapsed": true
   },
   "outputs": [],
   "source": [
    "# keep the imports and variables from above #\n",
    "# specify redshifts of deflectors #\n",
    "redshift_list = [0.5, 0.5,.1]\n",
    "# specify source redshift #\n",
    "z_source = 1.5\n",
    "# setup lens model class with the list of lens models #\n",
    "lensModel_mp = LensModel(lens_model_list=lens_model_list, z_source=z_source, redshift_list=redshift_list, multi_plane=True)\n",
    "\n",
    "# arrival time relative to a straight path through (0,0) #\n",
    "dt = lensModel_mp.arrival_time(theta_ra, theta_dec, kwargs_lens)\n"
   ]
  },
  {
   "cell_type": "markdown",
   "metadata": {},
   "source": [
    "### lens equation solver\n",
    "\n",
    "Solving the lens equation to compute the (multiple) image positions of a given source position can be conveniently performed within $\\texttt{LensModel}$ and is supported with a general instance of the $\\texttt{LensModel}$ class."
   ]
  },
  {
   "cell_type": "code",
   "execution_count": null,
   "metadata": {
    "collapsed": true
   },
   "outputs": [],
   "source": [
    "# keep the imports and variables from above #\n",
    "# import the lens equation solver class #\n",
    "from lenstronomy.LensModel.Solver.lens_equation_solver import LensEquationSolver\n",
    "\n",
    "# specifiy the lens model class to deal with #\n",
    "solver = LensEquationSolver(lensModel)\n",
    "\n",
    "# solve for image positions provided a lens model and the source position #\n",
    "theta_ra, theta_dec = solver.image_position_from_source(beta_ra, beta_dec, kwargs_lens)\n",
    "\n",
    "# the magnification of the point source images #\n",
    "mag = lensModel.magnification(theta_ra, theta_dec, kwargs_lens)"
   ]
  },
  {
   "cell_type": "markdown",
   "metadata": {},
   "source": [
    "### illustration of lens models\n",
    "The lens models can be conveniently illustrated with routines present in the $\\texttt{Plot}$ module."
   ]
  },
  {
   "cell_type": "code",
   "execution_count": null,
   "metadata": {},
   "outputs": [],
   "source": [
    "import lenstronomy.Plots.output_plots as lens_plot\n",
    "f, axex = plt.subplots(1, 2, figsize=(10, 5), sharex=False, sharey=False)\n",
    "lens_plot.lens_model_plot(axex[0], lensModel=lensModel, kwargs_lens=kwargs_lens, sourcePos_x=beta_ra, sourcePos_y=beta_dec, point_source=True)\n",
    "lens_plot.lens_model_plot(axex[1], lensModel=lensModel_mp, kwargs_lens=kwargs_lens, sourcePos_x=beta_ra, sourcePos_y=beta_dec, point_source=True)\n",
    "#plt.savefig('/Users/sibirrer/Cosmology/Strong_Lensing/Papers/Lenstronomy/LenstronomyPaper/lens_model.pdf', format='pdf')\n",
    "f.show()"
   ]
  },
  {
   "cell_type": "markdown",
   "metadata": {},
   "source": [
    "## $\\texttt{LightModel}$ module\n",
    "\n",
    "The $\\texttt{LightModel}$ class provides the functionality to describe galaxy surface brightnesses. $\\texttt{LightModel}$ supports various analytic profiles as well as representations in shapelet basis sets. Any superposition of different profiles is allowed."
   ]
  },
  {
   "cell_type": "code",
   "execution_count": null,
   "metadata": {
    "collapsed": true
   },
   "outputs": [],
   "source": [
    "# import the LightModel class #\n",
    "from lenstronomy.LightModel.light_model import LightModel\n",
    "# set up the list of light models to be used #\n",
    "source_light_model_list = ['SERSIC']\n",
    "lightModel_source = LightModel(light_model_list=source_light_model_list)\n",
    "lens_light_model_list = ['SERSIC_ELLIPSE']\n",
    "lightModel_lens = LightModel(light_model_list=lens_light_model_list)\n",
    "# define the parameters #\n",
    "kwargs_light_source = [{'I0_sersic': 10, 'R_sersic': 0.02, 'n_sersic': 1.5, 'center_x': beta_ra, 'center_y': beta_dec}]\n",
    "kwargs_light_lens = [{'I0_sersic': 1000, 'R_sersic': 0.05, 'n_sersic': 2.5, 'q': 0.7, 'phi_G': 0.5, 'center_x': 0.1, 'center_y': 0}]\n",
    "\n",
    "# evaluate surface brightness at a specific position #\n",
    "flux = lightModel_lens.surface_brightness(x=1, y=1, kwargs_list=kwargs_light_lens)"
   ]
  },
  {
   "cell_type": "markdown",
   "metadata": {},
   "source": [
    "## $\\texttt{PointSource}$ module\n",
    "To accurately predict and model the positon and flux of point sources, one has to apply different numerical procedures than for extended surface brightness features. The $\\texttt{PointSource}$ class manages the different options in describing point sources (e.g. in the image plane or source plane, with fixed magnification or allowed with individual variations thereof) and provides a homogeneous interface to access image positions and magnifications."
   ]
  },
  {
   "cell_type": "code",
   "execution_count": null,
   "metadata": {
    "collapsed": true
   },
   "outputs": [],
   "source": [
    "# import the PointSource class #\n",
    "from lenstronomy.PointSource.point_source import PointSource\n",
    "\n",
    "# unlensed source positon #\n",
    "point_source_model_list = ['SOURCE_POSITION']\n",
    "pointSource = PointSource(point_source_type_list=point_source_model_list, lensModel=lensModel, fixed_magnification_list=[True])\n",
    "kwargs_ps = [{'ra_source': beta_ra, 'dec_source': beta_dec, 'source_amp': 100}]\n",
    "# return image positions and amplitudes #\n",
    "x_pos, y_pos = pointSource.image_position(kwargs_ps=kwargs_ps, kwargs_lens=kwargs_lens)\n",
    "point_amp = pointSource.image_amplitude(kwargs_ps=kwargs_ps, kwargs_lens=kwargs_lens)\n",
    "\n",
    "# lensed image positions (solution of the lens equation) #\n",
    "point_source_model_list = ['LENSED_POSITION']\n",
    "pointSource = PointSource(point_source_type_list=point_source_model_list, lensModel=lensModel, fixed_magnification_list=[False])\n",
    "kwargs_ps = [{'ra_image': theta_ra, 'dec_image': theta_dec, 'point_amp': np.abs(mag)*30}]\n",
    "# return image positions and amplitudes #\n",
    "x_pos, y_pos = pointSource.image_position(kwargs_ps=kwargs_ps, kwargs_lens=kwargs_lens)\n",
    "point_amp = pointSource.image_amplitude(kwargs_ps=kwargs_ps, kwargs_lens=kwargs_lens)"
   ]
  },
  {
   "cell_type": "markdown",
   "metadata": {},
   "source": [
    "## $\\texttt{Data}$ module\n",
    "The $\\texttt{Data}$ class stores and manages all the imaging data relevant information. This includes the coordinate frame, coordinate-to-pixel transformation (and the inverse), and in case of fitting also noise properties for likelihood estimates. The $\\texttt{PSF}$ class handles the point spread function convolution. Supported are pixelized convolution kernels as well as some analytic profiles."
   ]
  },
  {
   "cell_type": "code",
   "execution_count": null,
   "metadata": {
    "collapsed": true
   },
   "outputs": [],
   "source": [
    "# import the Data() class #\n",
    "from lenstronomy.Data.imaging_data import Data\n",
    "deltaPix = 0.05  # size of pixel in angular coordinates #\n",
    "\n",
    "# setup the keyword arguments to create the Data() class #\n",
    "kwargs_data = {'numPix': 100,\n",
    "    'ra_at_xy_0': -2.5,\n",
    "    'dec_at_xy_0': -2.5, \n",
    "    'transform_pix2angle': np.array([[1, 0], [0, 1]]) * deltaPix}\n",
    "data = Data(kwargs_data)\n",
    "# return the list of pixel coordinates #\n",
    "x_coords, y_coords = data.coordinates\n",
    "# compute pixel value of a coordinate position #\n",
    "x_pos, y_pos = data.map_coord2pix(ra=0, dec=0)\n",
    "# compute the coordinate value of a pixel position #\n",
    "ra_pos, dec_pos = data.map_pix2coord(x=20, y=10)\n",
    "\n",
    "# import the PSF() class #\n",
    "from lenstronomy.Data.psf import PSF\n",
    "kwargs_psf = {'psf_type': 'GAUSSIAN', 'fwhm': 0.1, 'pixel_size': deltaPix}\n",
    "psf = PSF(kwargs_psf)\n",
    "# return the pixel kernel corresponding to a point source # \n",
    "kernel = psf.kernel_point_source"
   ]
  },
  {
   "cell_type": "markdown",
   "metadata": {},
   "source": [
    "## $\\texttt{ImSim}$ module\n",
    "The $\\texttt{ImSim}$ module simulates images. At its core is the $\\texttt{ImageModel}$ class. It is the interface to combine all the different components, $\\texttt{LensModel}$, $\\texttt{LightModel}$, $\\texttt{PointSource}$ and $\\texttt{Data}$ to model images. The $\\texttt{LightModel}$ can be used to model lens light (unlensed) or source light (lensed). $\\texttt{ImSim}$ is fully supporting all functionalities in each component. Additionaly, numerical precision arguments can be set in how to model the image."
   ]
  },
  {
   "cell_type": "markdown",
   "metadata": {},
   "source": [
    "### Simulate image\n",
    "We simulate an image with an instance of $\\texttt{ImageModel}$ that got instances of the classes we created above. We can define two different $\\texttt{LightModel}$ instances for the lens and source light. Additionally, we can define the sub-pixel ray-tracing resolution and whether the PSF convolution is applied on the higher resolution ray-tracing image or on the degraded pixel image."
   ]
  },
  {
   "cell_type": "code",
   "execution_count": null,
   "metadata": {
    "collapsed": true
   },
   "outputs": [],
   "source": [
    "# import the ImageModel class #\n",
    "from lenstronomy.ImSim.image_model import ImageModel\n",
    "# define the numerics #\n",
    "kwargs_numerics = {'subgrid_res': 3,\n",
    "                  'psf_subgrid': True}\n",
    "# initialize the Image model class by combining the modules we created above #\n",
    "imageModel = ImageModel(data_class=data, psf_class=psf, lens_model_class=lensModel,\n",
    "                        source_model_class=lightModel_source,\n",
    "                        lens_light_model_class=lightModel_lens,\n",
    "                        point_source_class=pointSource, \n",
    "                        kwargs_numerics=kwargs_numerics)\n",
    "# simulate image with the parameters we have defined above #\n",
    "image = imageModel.image(kwargs_lens=kwargs_lens, kwargs_source=kwargs_light_source,\n",
    "                         kwargs_lens_light=kwargs_light_lens, kwargs_ps=kwargs_ps)\n",
    "\n",
    "# we can also add noise #\n",
    "import lenstronomy.Util.image_util as image_util\n",
    "exp_time = 100  # exposure time to quantify the Poisson noise level\n",
    "background_rms = 0.1  # background rms value\n",
    "poisson = image_util.add_poisson(image, exp_time=exp_time)\n",
    "bkg = image_util.add_background(image, sigma_bkd=background_rms)\n",
    "image_noisy = image + bkg + poisson"
   ]
  },
  {
   "cell_type": "markdown",
   "metadata": {},
   "source": [
    "### Linear inversion\n",
    "Parameter corresponding to an an amplitude of a surface brightness distribution have a linear response on the predicted flux values in the data and can be infered by a linear inversion. This can reduce the number of non-linear parameters fastly, depending on the source complexity to be modelled. In the example of this notebook, we have 6 linear parameters, the 4 point source amplitudes and the amplitudes of the Sersic profile of the lens and source. *lenstronomy* automatically identifies those parameters and can recover those values (data permitting).\n"
   ]
  },
  {
   "cell_type": "code",
   "execution_count": null,
   "metadata": {},
   "outputs": [],
   "source": [
    "# update the data with the noisy image and its noise properties #\n",
    "kwargs_data['image_data'] = image_noisy\n",
    "kwargs_data['background_rms'] = background_rms\n",
    "kwargs_data['exposure_map'] = np.ones_like(image_noisy)* exp_time\n",
    "data_class_sim = Data(kwargs_data)\n",
    "imageModel.update_data(data_class_sim)\n",
    "\n",
    "# we do not require the knowledge of the linear parameters #\n",
    "del kwargs_light_source[0]['I0_sersic']\n",
    "# apply the linear inversion to fit for the noisy image #\n",
    "image_reconstructed, _, _, _ = imageModel.image_linear_solve(kwargs_lens=kwargs_lens, kwargs_source=kwargs_light_source, \n",
    "                              kwargs_lens_light=kwargs_light_lens, kwargs_ps=kwargs_ps)"
   ]
  },
  {
   "cell_type": "code",
   "execution_count": null,
   "metadata": {},
   "outputs": [],
   "source": [
    "# illustrate fit #\n",
    "from lenstronomy.Plots.output_plots import LensModelPlot\n",
    "kwargs_model = {'lens_model_list': lens_model_list, 'source_light_model_list': source_light_model_list,\n",
    "               'lens_light_model_list': lens_light_model_list, 'point_source_model_list': point_source_model_list}\n",
    "lensPlot = LensModelPlot(kwargs_data, kwargs_psf, kwargs_numerics, kwargs_model, kwargs_lens, kwargs_light_source,\n",
    "                            kwargs_light_lens, kwargs_ps, arrow_size=0.02)\n",
    "    \n",
    "f, axes = plt.subplots(2, 3, figsize=(16, 8), sharex=False, sharey=False)\n",
    "lensPlot.data_plot(ax=axes[0,0])\n",
    "lensPlot.model_plot(ax=axes[0,1])\n",
    "lensPlot.normalized_residual_plot(ax=axes[0,2], v_min=-6, v_max=6)\n",
    "lensPlot.source_plot(ax=axes[1, 0],convolution=False, deltaPix_source=0.01, numPix=100)\n",
    "lensPlot.convergence_plot(ax=axes[1, 1], v_max=1)\n",
    "lensPlot.magnification_plot(ax=axes[1, 2])\n",
    "f.tight_layout()\n",
    "f.subplots_adjust(left=None, bottom=None, right=None, top=None, wspace=0., hspace=0.05)\n",
    "plt.show()"
   ]
  },
  {
   "cell_type": "markdown",
   "metadata": {},
   "source": [
    "## $\\texttt{Workflow}$ Module\n",
    "The $\\texttt{Workflow}$ Module manages the execution of non-linear fitter (in our case the PSO) and the parameter inference (in our case the CosmoHammer emcee). The two main classes are $\\texttt{Param}$ and $\\texttt{FittingSequence}$. These classes handle all the model choices of the user and mitigate them to the external modules and from the external modules back to *lenstronomy*."
   ]
  },
  {
   "cell_type": "markdown",
   "metadata": {},
   "source": [
    "### $\\texttt{Param}$ class\n",
    "The $\\texttt{Param}$ class is the interface of the *lenstronomy* conventions of parameters (list of keyword arguments) and the fitting conventions of $\\texttt{CosmoHammer}$ or $\\texttt{emcee}$ (single array consisting all parameters). The $\\texttt{Param}$ class enables the user to set further options:\n",
    "\n",
    "- keep certain parameters fixed\n",
    "- handling of the linear parameters\n",
    "- provide additional constraints on the modelling (e.g. fix source profile to point source position etc)\n",
    "\n",
    "With the $\\texttt{Param}$ class, lenstronomy can be integrated robustly with other sampling methods."
   ]
  },
  {
   "cell_type": "code",
   "execution_count": null,
   "metadata": {},
   "outputs": [],
   "source": [
    "# import the parameter handling class #\n",
    "from lenstronomy.Workflow.parameters import Param\n",
    "# set options for constraint parameters #\n",
    "kwargs_constraints = {'joint_center_lens_light': False,\n",
    "                'joint_center_source_light': False,\n",
    "                'num_point_source_list': [4],\n",
    "                'additional_images_list': [False],\n",
    "                'fix_to_point_source_list': [True],\n",
    "                'image_plane_source_list': [False],\n",
    "                'solver': True,\n",
    "                'solver_type': 'PROFILE_SHEAR',  # 'PROFILE', 'PROFILE_SHEAR', 'ELLIPSE', 'CENTER'\n",
    "               }\n",
    "# list fixed parameters #\n",
    "kwargs_fixed_lens = [{'gamma': 2.}, {}, {}]\n",
    "kwargs_fixed_source = [{}]\n",
    "kwargs_fixed_lens_light = [{}]\n",
    "kwargs_fixed_ps = [{}]\n",
    "kwargs_fixed = [kwargs_fixed_lens, kwargs_fixed_source, kwargs_fixed_lens_light, kwargs_fixed_ps]\n",
    "# make instance of parameter class with given model options, constraints and fixed parameters #\n",
    "param = Param(kwargs_model, kwargs_constraints, kwargs_fixed_lens, kwargs_fixed_source,\n",
    "                 kwargs_fixed_lens_light, kwargs_fixed_ps, kwargs_lens_init=kwargs_lens)\n",
    "# the number of non-linear parameters and their names #\n",
    "num_param, param_list = param.num_param()\n",
    "# parameter array for fitting routine #\n",
    "param_array = param.setParams(kwargs_lens, kwargs_light_source, kwargs_light_lens, kwargs_ps)\n",
    "print param_array\n",
    "# recover keyword arguments list for lenstronomy from a parameter array of the fitting routine #\n",
    "kwargs_lens_out, kwargs_light_source_out, kwargs_light_lens_out, kwargs_ps_out = param.getParams(param_array)\n",
    "\n",
    "\n"
   ]
  },
  {
   "cell_type": "markdown",
   "metadata": {},
   "source": [
    "### $\\texttt{FittingSequence}$ class\n",
    "\n",
    "The $\\texttt{FittingSequence}$ class allows to perform a PSO and/or MCMC run. The user can run a sequence of fitting routines, applied one after the other with taking the results of the previous routine as an input of the next one. The user can specify (optionaly) to keep one or multiple parameter classes (lens model, source model, lens light model and source model) fixed during the fitting process or parameter inference.\n",
    "\n",
    "The user further needs to specify:\n",
    "- define input guess and uncertainties and uncertainties\n",
    "- hard bounds on parameters\n",
    "- number of particles and number of iterations being performed by the PSO/MCMC\n",
    "\n",
    "$\\texttt{FittingSequence}$ does not rely on instances of other *lenstronomy* classes. It can be constructed from elements in the form of keyword arguments and lists thereof in the *lenstronomy* conventions. This enables a save and reliable execution of tasks within $\\texttt{FittingSequence}$ on non-local platforms, such as high performance clusters."
   ]
  },
  {
   "cell_type": "code",
   "execution_count": null,
   "metadata": {},
   "outputs": [],
   "source": [
    "# initial guess of non-linear parameters, we chose different starting parameters than the truth #\n",
    "kwargs_lens_init = [{'theta_E': 1.2, 'q': 1., 'phi_G': 0., 'gamma': 2., 'center_x': 0., 'center_y': 0},\n",
    "    {'e1': 0.0, 'e2': 0.01}, {'theta_E': 0.1, 'center_x': 1., 'center_y': 0}]\n",
    "kwargs_source_init = [{'R_sersic': 0.03, 'n_sersic': 1., 'center_x': 0, 'center_y': 0}]\n",
    "kwargs_lens_light_init = [{'R_sersic': 0.1, 'n_sersic': 1, 'q': 1., 'phi_G': 0, 'center_x': 0, 'center_y': 0}]\n",
    "kwargs_ps_init = [{'ra_image': theta_ra+0.01, 'dec_image': theta_dec-0.01}]\n",
    "kwargs_init = [kwargs_lens_init, kwargs_source_init, kwargs_lens_light_init, kwargs_ps_init]\n",
    "\n",
    "# initial spread in parameter estimation #\n",
    "kwargs_lens_sigma = [{'theta_E_sigma': 0.3, 'ellipse_sigma': 0.2, 'gamma_sigma': .2, 'center_x_sigma': 0.1, 'center_y_sigma': 0.1},\n",
    "    {'shear_sigma': 0.1}, {'theta_E_sigma': 0.1, 'center_x_sigma': .1, 'center_y_sigma': 0.1}]\n",
    "kwargs_source_sigma = [{'R_sersic_sigma': 0.1, 'n_sersic_sigma': .5, 'center_x_sigma': .1, 'center_y_sigma': 0.1}]\n",
    "kwargs_lens_light_sigma = [{'R_sersic_sigma': 0.1, 'n_sersic_sigma': 0.2, 'ellipse_sigma': 0.2, 'center_x_sigma': .1, 'center_y_sigma': 0.1}]\n",
    "kwargs_ps_sigma = [{'pos_sigma': 0.02}]\n",
    "kwargs_sigma = [kwargs_lens_sigma, kwargs_source_sigma, kwargs_lens_light_sigma, kwargs_ps_sigma]\n",
    "\n",
    "# hard bound lower limit in parameter space #\n",
    "kwargs_lower_lens = [{'theta_E': 0, 'q': .2, 'phi_G': 0., 'gamma': 1.5, 'center_x': -10., 'center_y': -10},\n",
    "    {'e1': -.2, 'e2': -0.2}, {'theta_E': 0., 'center_x': -10, 'center_y': -10}]\n",
    "kwargs_lower_source = [{'R_sersic': 0.001, 'n_sersic': .5, 'center_x': -10, 'center_y': -10}]\n",
    "kwargs_lower_lens_light = [{'R_sersic': 0.001, 'n_sersic': 0.5, 'q': .1, 'phi_G': 0, 'center_x': -10, 'center_y': -10}]\n",
    "kwargs_lower_ps = [{'ra_image': -10 * np.ones_like(theta_ra), 'dec_image': -10 * np.ones_like(theta_dec)}]\n",
    "kwargs_lower = [kwargs_lower_lens, kwargs_lower_source, kwargs_lower_lens_light, kwargs_lower_ps]\n",
    "\n",
    "# hard bound upper limit in parameter space #\n",
    "kwargs_upper_lens = [{'theta_E': 10, 'q': .2, 'phi_G': 0., 'gamma': 2.5, 'center_x': 10., 'center_y': 10},\n",
    "    {'e1': 0.2, 'e2': 0.2}, {'theta_E': 1., 'center_x': 10, 'center_y': 10}]\n",
    "kwargs_upper_source = [{'R_sersic': 10, 'n_sersic': 5., 'center_x': 10, 'center_y': 10}]\n",
    "kwargs_upper_lens_light = [{'R_sersic': 10, 'n_sersic': 5., 'q': .1, 'phi_G': 0, 'center_x': 10, 'center_y': 10}]\n",
    "kwargs_upper_ps = [{'ra_image': 10 * np.ones_like(theta_ra), 'dec_image': 10 * np.ones_like(theta_dec)}]\n",
    "kwargs_upper = [kwargs_upper_lens, kwargs_upper_source, kwargs_upper_lens_light, kwargs_upper_ps]\n",
    "\n",
    "kwargs_params = [kwargs_init, kwargs_sigma, kwargs_fixed, kwargs_lower, kwargs_upper]\n",
    "\n",
    "\n",
    "kwargs_likelihood = {'source_marg': False}\n",
    "\n",
    "band_list = [kwargs_data, kwargs_psf, kwargs_numerics]\n",
    "multi_band_list = []\n",
    "multi_band_list.append(band_list)\n",
    "\n",
    "\n",
    "\n",
    "from lenstronomy.Workflow.fitting_sequence import FittingSequence\n",
    "fitting_seq = FittingSequence(multi_band_list, kwargs_model, kwargs_constraints, kwargs_likelihood, kwargs_params)\n",
    "\n",
    "fitting_kwargs_list = [\n",
    "        {'fitting_routine': 'PSO', 'mpi': False, 'sigma_scale': 1., 'n_particles': 200,\n",
    "         'n_iterations': 200},\n",
    "        {'fitting_routine': 'MCMC', 'n_burn': 10, 'n_run': 10, 'walkerRatio': 10, 'mpi': False,\n",
    "         'sigma_scale': .1}]\n",
    "\n",
    "lens_result, source_result, lens_light_result, ps_result, chain_list, param_list, samples_mcmc, param_mcmc, dist_mcmc = fitting_seq.fit_sequence(fitting_kwargs_list)"
   ]
  },
  {
   "cell_type": "code",
   "execution_count": null,
   "metadata": {},
   "outputs": [],
   "source": [
    "\n",
    "lensPlot = LensModelPlot(kwargs_data, kwargs_psf, kwargs_numerics, kwargs_model, lens_result, source_result,\n",
    "                             lens_light_result, ps_result, arrow_size=0.02, cmap_string=\"gist_heat\", high_res=5)\n",
    "    \n",
    "f, axes = plt.subplots(2, 3, figsize=(16, 8), sharex=False, sharey=False)\n",
    "\n",
    "lensPlot.data_plot(ax=axes[0,0])\n",
    "lensPlot.model_plot(ax=axes[0,1])\n",
    "lensPlot.normalized_residual_plot(ax=axes[0,2], v_min=-6, v_max=6)\n",
    "lensPlot.source_plot(ax=axes[1, 0],convolution=False, deltaPix_source=0.01, numPix=100)\n",
    "lensPlot.convergence_plot(ax=axes[1, 1], v_max=1)\n",
    "lensPlot.magnification_plot(ax=axes[1, 2])\n",
    "f.tight_layout()\n",
    "f.subplots_adjust(left=None, bottom=None, right=None, top=None, wspace=0., hspace=0.05)\n",
    "plt.show()\n",
    "\n",
    "f, axes = plt.subplots(2, 3, figsize=(16, 8), sharex=False, sharey=False)\n",
    "\n",
    "lensPlot.decomposition_plot(ax=axes[0,0], text='Lens light', lens_light_add=True, unconvolved=True)\n",
    "lensPlot.decomposition_plot(ax=axes[1,0], text='Lens light convolved', lens_light_add=True)\n",
    "lensPlot.decomposition_plot(ax=axes[0,1], text='Source light', source_add=True, unconvolved=True)\n",
    "lensPlot.decomposition_plot(ax=axes[1,1], text='Source light convolved', source_add=True)\n",
    "lensPlot.decomposition_plot(ax=axes[0,2], text='All components', source_add=True, lens_light_add=True, unconvolved=True)\n",
    "lensPlot.decomposition_plot(ax=axes[1,2], text='All components convolved', source_add=True, lens_light_add=True, point_source_add=True)\n",
    "f.tight_layout()\n",
    "f.subplots_adjust(left=None, bottom=None, right=None, top=None, wspace=0., hspace=0.05)\n",
    "plt.show()\n",
    "print lens_result, source_result, lens_light_result, ps_result"
   ]
  },
  {
   "cell_type": "code",
   "execution_count": null,
   "metadata": {},
   "outputs": [],
   "source": [
    "print \"number of non-linear parameters in the MCMC process: \", len(param_mcmc)\n",
    "print \"parameters in order: \", param_mcmc\n",
    "print \"number of evaluations in the MCMC process: \", np.shape(samples_mcmc)[0]\n",
    "import corner\n",
    "if not samples_mcmc == []:\n",
    "        n, num_param = np.shape(samples_mcmc)\n",
    "        plot = corner.corner(samples_mcmc[:,:8], labels=param_mcmc[:8], show_titles=True)\n",
    "        plot = corner.corner(samples_mcmc[:,8:], labels=param_mcmc[8:], show_titles=True)"
   ]
  },
  {
   "cell_type": "code",
   "execution_count": null,
   "metadata": {
    "collapsed": true
   },
   "outputs": [],
   "source": []
  }
 ],
 "metadata": {
  "kernelspec": {
   "display_name": "Python 2",
   "language": "python",
   "name": "python2"
  },
  "language_info": {
   "codemirror_mode": {
    "name": "ipython",
    "version": 2
   },
   "file_extension": ".py",
   "mimetype": "text/x-python",
   "name": "python",
   "nbconvert_exporter": "python",
   "pygments_lexer": "ipython2",
   "version": "2.7.10"
  }
 },
 "nbformat": 4,
 "nbformat_minor": 2
}
