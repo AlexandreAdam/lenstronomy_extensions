{
 "cells": [
  {
   "cell_type": "code",
   "execution_count": null,
   "metadata": {
    "collapsed": true
   },
   "outputs": [],
   "source": [
    "# image simulations for source reconstruction challenge\n",
    "# author: Simon Birrer"
   ]
  },
  {
   "cell_type": "markdown",
   "metadata": {},
   "source": [
    "### this notebook demonstrates the image simulation with the lenstronomy package"
   ]
  },
  {
   "cell_type": "code",
   "execution_count": null,
   "metadata": {
    "collapsed": true
   },
   "outputs": [],
   "source": [
    "import numpy as np\n",
    "import os\n",
    "import scipy\n",
    "import astropy.io.fits as pyfits\n",
    "import scipy.ndimage\n",
    "import matplotlib.pyplot as plt\n",
    "from mpl_toolkits.axes_grid1 import make_axes_locatable\n",
    "%matplotlib inline\n"
   ]
  },
  {
   "cell_type": "markdown",
   "metadata": {},
   "source": [
    "## import image and decompose it"
   ]
  },
  {
   "cell_type": "code",
   "execution_count": null,
   "metadata": {},
   "outputs": [],
   "source": [
    "# import astropy classes\n",
    "\n",
    "from lenstronomy.LightModel.Profiles.shapelets import ShapeletSet\n",
    "shapeletSet = ShapeletSet()\n",
    "import lenstronomy.Util.util as util\n",
    "import lenstronomy.Util.image_util as image_util\n",
    "\n"
   ]
  },
  {
   "cell_type": "code",
   "execution_count": null,
   "metadata": {},
   "outputs": [],
   "source": [
    "# import NGC1300 jpg image and decompose it\n",
    "\n",
    "\n",
    "# import PSF file\n",
    "path = os.getcwd()\n",
    "dirpath, _ = os.path.split(path)\n",
    "module_path, _ = os.path.split(dirpath)\n",
    "ngc_filename = os.path.join(module_path, 'Data/Galaxies/ngc1300.jpg')\n",
    "\n",
    "ngc_data = scipy.ndimage.imread(ngc_filename, flatten=True, mode=None)\n",
    "median = np.median(ngc_data[:200, :200])\n",
    "ngc_data -= median\n",
    "print(median)\n",
    "\n",
    "\n",
    "nx, ny = np.shape(ngc_data)\n",
    "n_min = min(nx, ny)\n",
    "n_max = max(nx, ny)\n",
    "print n_max\n",
    "ngc_new = np.zeros((n_max, n_max))\n",
    "x_start = int((n_max - nx)/2.)\n",
    "y_start = int((n_max - ny)/2.)\n",
    "ngc_new[x_start:x_start+nx, y_start:y_start+ny] = ngc_data\n",
    "\n",
    "plt.matshow(ngc_new)\n",
    "plt.show()\n",
    "sigma = 5\n",
    "ngc_new = scipy.ndimage.filters.gaussian_filter(ngc_new, sigma, mode='nearest', truncate=6)\n",
    "plt.matshow(ngc_new)\n",
    "plt.show()\n",
    "\n",
    "factor = 25  # lower resolution of image with a given factor\n",
    "numPix_large = len(ngc_new)/factor\n",
    "print(numPix_large)\n",
    "print numPix_large * factor - n_max\n",
    "n_new = (numPix_large-1)*factor\n",
    "ngc_cut = ngc_new[0:n_new,0:n_new]\n",
    "x, y = util.make_grid(numPix=numPix_large-1, deltapix=1)  # make a coordinate grid\n",
    "ngc_data_resized = image_util.re_size(ngc_cut, factor)  # re-size image to lower resolution\n",
    "#\n",
    "#print(ngc_data_resized[5500:5560, 1990:2000])\n",
    "#print('median: ', median)\n",
    "ngc_data_resized -= 0# median  # subtract a \"background\" value\n",
    "plt.matshow(ngc_data_resized)\n",
    "plt.show()\n",
    "\n",
    "image_1d = util.image2array(ngc_data_resized)  # map 2d image in 1d data array\n",
    "\n",
    "n_max = 150  # choice of number of shapelet basis functions, 150 is a high resolution number, but takes long\n",
    "beta = 10  # shapelet scale parameter\n",
    "\n",
    "# return the shapelet coefficients\n",
    "param_list_ngc = shapeletSet.decomposition(image_1d, x, y, n_max, beta, 1., center_x=0, center_y=0) \n",
    "print len(param_list_ngc), 'number of coefficients'  # number of coefficients\n",
    "\n",
    "# reconstruct M31 with the shapelet coefficients\n",
    "image_reconstructed = shapeletSet.function(x, y, param_list_ngc, n_max, beta, center_x=0, center_y=0)\n",
    "image_reconstructed_2d = util.array2image(image_reconstructed)  # map 1d data vector in 2d image\n",
    "\n",
    "\n",
    "print(image_reconstructed_2d.shape)\n",
    "plt.matshow(image_reconstructed_2d)\n",
    "plt.show()"
   ]
  },
  {
   "cell_type": "markdown",
   "metadata": {},
   "source": [
    "## simulation illustration with lenstronomy ImSim API"
   ]
  },
  {
   "cell_type": "code",
   "execution_count": null,
   "metadata": {
    "collapsed": true
   },
   "outputs": [],
   "source": [
    "# import main simulation class of lenstronomy\n",
    "from lenstronomy.SimulationAPI.simulations import Simulation\n",
    "\n",
    "SimAPI = Simulation()\n",
    "\n",
    "# data specifics\n",
    "sigma_bkg = 10.  #  background noise per pixel\n",
    "exp_time = 100.  #  exposure time (arbitrary units, flux per pixel is in units #photons/exp_time unit)\n",
    "numPix = 64  #  cutout pixel size\n",
    "deltaPix = 0.05  #  pixel size in arcsec (area per pixel = deltaPix**2)\n",
    "high_res_factor = 5\n",
    "subgrid_res = high_res_factor\n",
    "fwhm = 0.1 # full width half max of PSF\n",
    "psf_type = 'gaussian'  # 'gaussian', 'pixel', 'NONE'\n",
    "\n",
    "param_list = param_list_ngc\n",
    "#param_list = param_list_m31/1000.\n",
    "kwargs_shear = {'e1': 0.0, 'e2': 0.0}\n",
    "source_x = 0.2\n",
    "source_y = 0.\n",
    "kwargs_else = {'sourcePos_x': source_x, 'sourcePox_y': source_y}\n",
    "kwargs_spemd = {'theta_E': 0.5, 'gamma': 2., 'center_x':0, 'center_y': 0, 'q': 1., 'phi_G': 0.2}\n",
    "\n",
    "beta_model = 0.06\n",
    "kwargs_shapelet = {'n_max': n_max, 'beta': beta_model, 'amp': param_list, 'center_x': source_x, 'center_y': source_y}\n",
    "\n",
    "import pickle\n",
    "if False:\n",
    "    f = open('source_kwargs.txt', 'wb')\n",
    "    pickle.dump(kwargs_shapelet, f)\n",
    "    f.close()\n",
    "source_model_list = ['SHAPELETS']\n",
    "kwargs_source_list = [kwargs_shapelet]\n",
    "\n",
    "lens_light_model_list = ['NONE']\n",
    "kwargs_lens_light_list = [{}]\n",
    "\n"
   ]
  },
  {
   "cell_type": "code",
   "execution_count": null,
   "metadata": {},
   "outputs": [],
   "source": [
    "# real lensed image\n",
    "kwargs_data_real = SimAPI.data_configure(numPix, deltaPix, exp_time, sigma_bkg)\n",
    "kwargs_data_high_res = SimAPI.data_configure(numPix*high_res_factor, deltaPix/high_res_factor, exp_time, sigma_bkg)\n",
    "kwargs_psf = SimAPI.psf_configure(psf_type=psf_type, fwhm=fwhm, kernelsize=31, deltaPix=deltaPix, truncate=20, kernel=None)\n",
    "kwargs_psf_high_res = SimAPI.psf_configure(psf_type=psf_type, fwhm=fwhm, kernelsize=31, deltaPix=deltaPix/high_res_factor, truncate=6, kernel=None)\n",
    "kwargs_psf_no = {'psf_type': 'NONE'}\n",
    "\n",
    "\n",
    "lens_model_list = ['SPEP']\n",
    "kwargs_lens_list = [kwargs_spemd]\n",
    "\n",
    "kwargs_options = {'lens_model_list': lens_model_list, \n",
    "                 'lens_light_model_list': lens_light_model_list,\n",
    "                 'source_light_model_list': source_model_list,\n",
    "                 'foreground_shear': False,\n",
    "                 'point_source': False,  # if True, simulates point source at source position of 'sourcePos_xy' in kwargs_else\n",
    "                  'subgrid_res': subgrid_res, 'psf_subgrid': True\n",
    "                 }\n",
    "\n",
    "kwargs_options_high_res = {'lens_model_list': lens_model_list, \n",
    "                 'lens_light_model_list': lens_light_model_list,\n",
    "                 'source_light_model_list': source_model_list,\n",
    "                 'foreground_shear': False,\n",
    "                 'point_source': False,  # if True, simulates point source at source position of 'sourcePos_xy' in kwargs_else\n",
    "                  'subgrid_res': 1\n",
    "                 }\n",
    "\n",
    "\n",
    "image_real_lensed = SimAPI.im_sim(kwargs_options, kwargs_data_real, kwargs_psf, kwargs_lens_list, kwargs_source_list, kwargs_lens_light_list, kwargs_else)\n",
    "image_no_noise_lensed = SimAPI.im_sim(kwargs_options, kwargs_data_real, kwargs_psf, kwargs_lens_list, kwargs_source_list, kwargs_lens_light_list, kwargs_else, no_noise=True)\n",
    "image_high_res_conv_lensed = SimAPI.im_sim(kwargs_options_high_res, kwargs_data_high_res, kwargs_psf_high_res, kwargs_lens_list, kwargs_source_list, kwargs_lens_light_list, kwargs_else, no_noise=True)\n",
    "image_high_res_lensed = SimAPI.im_sim(kwargs_options_high_res, kwargs_data_high_res, kwargs_psf_no, kwargs_lens_list, kwargs_source_list, kwargs_lens_light_list, kwargs_else, no_noise=True)\n",
    "image_lensed = SimAPI.im_sim(kwargs_options, kwargs_data_real, kwargs_psf_no, kwargs_lens_list, kwargs_source_list, kwargs_lens_light_list, kwargs_else, no_noise=True)\n",
    "\n",
    "\n",
    "\n",
    "kwargs_lens_list_no_lens = [{}]\n",
    "\n",
    "kwargs_options_no_lens = {'lens_model_list': ['NONE'], \n",
    "                 'lens_light_model_list': lens_light_model_list,\n",
    "                 'source_light_model_list': source_model_list,\n",
    "                 'subgrid_res': 1,\n",
    "                 'point_source': False  # if True, simulates point source at source position of 'sourcePos_xy' in kwargs_else\n",
    "                 }\n",
    "\n",
    "\n",
    "image_high_res_nolens_large = SimAPI.im_sim(kwargs_options_no_lens, kwargs_data_high_res, kwargs_psf_no, kwargs_lens_list_no_lens, kwargs_source_list, kwargs_lens_light_list, kwargs_else, no_noise=True)\n"
   ]
  },
  {
   "cell_type": "code",
   "execution_count": null,
   "metadata": {
    "collapsed": true
   },
   "outputs": [],
   "source": [
    "# profiling routine\n",
    "\n",
    "#%load_ext line_profiler\n",
    "# real lensed image\n",
    "kwargs_data_real = SimAPI.data_configure(numPix, deltaPix, exp_time, sigma_bkg)\n",
    "kwargs_data_high_res = SimAPI.data_configure(numPix*high_res_factor, deltaPix/high_res_factor, exp_time, sigma_bkg)\n",
    "kwargs_psf = SimAPI.psf_configure(psf_type=psf_type, fwhm=fwhm, kernelsize=31, deltaPix=deltaPix, truncate=3, kernel=None)\n",
    "kwargs_psf_high_res = SimAPI.psf_configure(psf_type=psf_type, fwhm=fwhm, kernelsize=31, deltaPix=deltaPix/high_res_factor, truncate=3, kernel=None)\n",
    "\n",
    "\n",
    "lens_model_list = ['SPEP']\n",
    "kwargs_lens_list = [kwargs_spemd]\n",
    "\n",
    "kwargs_options = {'lens_model_list': lens_model_list, \n",
    "                 'lens_light_model_list': lens_light_model_list,\n",
    "                 'source_light_model_list': source_model_list,\n",
    "                  'subgrid_res': subgrid_res, 'psf_subgrid': True,\n",
    "                 'point_source': False  # if True, simulates point source at source position of 'sourcePos_xy' in kwargs_else\n",
    "                 }\n"
   ]
  },
  {
   "cell_type": "code",
   "execution_count": null,
   "metadata": {},
   "outputs": [],
   "source": [
    "import pyfits as pf\n",
    "\n",
    "cmap_string = 'gray'\n",
    "cmap = plt.get_cmap(cmap_string)\n",
    "cmap.set_bad(color='k', alpha=1.)\n",
    "cmap.set_under('k')\n",
    "\n",
    "v_min = 0\n",
    "v_max = 2\n",
    "\n",
    "f, axes = plt.subplots(1, 5, figsize=(20, 4), sharex=False, sharey=False)\n",
    "\n",
    "\n",
    "# sequence of strong lensing + shear\n",
    "i = 0\n",
    "\n",
    "ax = axes[0]\n",
    "im = ax.matshow((image_high_res_nolens_large), origin='lower', extent=[0, 1, 0, 1])\n",
    "ax.get_xaxis().set_visible(False)\n",
    "ax.get_yaxis().set_visible(False)\n",
    "ax.autoscale(False)\n",
    "    \n",
    "ax = axes[1]\n",
    "im = ax.matshow((image_high_res_lensed), origin='lower', extent=[0, 1, 0, 1])\n",
    "ax.get_xaxis().set_visible(False)\n",
    "ax.get_yaxis().set_visible(False)\n",
    "ax.autoscale(False)\n",
    "\n",
    "ax = axes[2]\n",
    "im = ax.matshow((image_high_res_conv_lensed), origin='lower', extent=[0, 1, 0, 1])\n",
    "ax.get_xaxis().set_visible(False)\n",
    "ax.get_yaxis().set_visible(False)\n",
    "ax.autoscale(False)\n",
    "\n",
    "ax = axes[3]\n",
    "im = ax.matshow((image_no_noise_lensed), origin='lower', extent=[0, 1, 0, 1])\n",
    "ax.get_xaxis().set_visible(False)\n",
    "ax.get_yaxis().set_visible(False)\n",
    "ax.autoscale(False)\n",
    "\n",
    "ax = axes[4]\n",
    "im = ax.matshow((image_real_lensed), origin='lower', extent=[0, 1, 0, 1])\n",
    "ax.get_xaxis().set_visible(False)\n",
    "ax.get_yaxis().set_visible(False)\n",
    "ax.autoscale(False)\n",
    "\n",
    "\n",
    "i = 0\n",
    "ax = axes[0]\n",
    "x_pos, y_pos = 0.05, 0.05\n",
    "fontsize_description = 30\n",
    "ax.text(x_pos, y_pos, \"intrinsic source\", color=\"w\", fontsize=fontsize_description)\n",
    "ax = axes[1]\n",
    "ax.text(x_pos, y_pos, \"+ lensing effect\", color=\"w\", fontsize=fontsize_description)\n",
    "ax = axes[2]\n",
    "ax.text(x_pos, y_pos, \"+ convolution\", color=\"w\", fontsize=fontsize_description)\n",
    "ax = axes[3]\n",
    "ax.text(x_pos, y_pos, \"+ pixelisation\", color=\"w\", fontsize=fontsize_description)\n",
    "ax = axes[4]\n",
    "ax.text(x_pos, y_pos, \"+ noise\", color=\"w\", fontsize=fontsize_description)"
   ]
  },
  {
   "cell_type": "markdown",
   "metadata": {
    "collapsed": true
   },
   "source": [
    "# lenstronomy shapelet reconstruction"
   ]
  },
  {
   "cell_type": "code",
   "execution_count": null,
   "metadata": {
    "collapsed": true
   },
   "outputs": [],
   "source": [
    "from lenstronomy.ImSim.image_model import ImageModel\n",
    "\n",
    "\n",
    "kwargs_options = {'lens_model_list': lens_model_list, 'source_light_model_list': ['SHAPELETS'], 'lens_light_model_list': [],\n",
    "                 'subgrid_res': 3}\n",
    "kwargs_data = kwargs_data_real\n",
    "kwargs_data['image_data'] = image_real_lensed\n",
    "makeImage = ImageModel(kwargs_options=kwargs_options, kwargs_data=kwargs_data, kwargs_psf=kwargs_psf)"
   ]
  },
  {
   "cell_type": "code",
   "execution_count": null,
   "metadata": {
    "collapsed": true
   },
   "outputs": [],
   "source": [
    "kwargs_lens= [kwargs_spemd]  # we use the same lens model to reconstruct the image\n",
    "n_max_reconstruct = 25 # we can change the source basis set order (we acctually have to do it due to the finite pixel resolution and psf)\n",
    "beta_reconstruct = 0.15  # scaling can also be adopted\n",
    "kwargs_source = [{'n_max': n_max_reconstruct, 'center_x': source_x, 'center_y': source_y, 'beta': beta_reconstruct}]\n",
    "\n",
    "# this is the linear inversion\n",
    "wls_model, _, cov_param, param = makeImage.image_linear_solve(kwargs_lens, kwargs_source, kwargs_lens_light_list, kwargs_else, inv_bool=False)\n",
    "lensed_reconstructed = wls_model"
   ]
  },
  {
   "cell_type": "code",
   "execution_count": null,
   "metadata": {},
   "outputs": [],
   "source": [
    "plt.matshow(wls_model)\n",
    "plt.show()\n",
    "\n",
    "reduced_residuals = makeImage.Data.reduced_residuals(wls_model)\n",
    "\n",
    "plt.matshow(reduced_residuals)\n",
    "plt.show()\n",
    "\n",
    "\n"
   ]
  },
  {
   "cell_type": "code",
   "execution_count": null,
   "metadata": {},
   "outputs": [],
   "source": [
    "# given the solution of the linear inversion, we can also plot the coefficients in the source plane\n",
    "source_reconstructed = shapeletSet.function(kwargs_data_high_res['x_coords'], kwargs_data_high_res['y_coords'], param, n_max_reconstruct, beta_reconstruct, center_x=source_x, center_y=source_y)\n",
    "source_reconstructed_2d = util.array2image(source_reconstructed)  # map 1d data vector in 2d image\n",
    "\n",
    "\n",
    "plt.matshow(source_reconstructed_2d)\n",
    "plt.show()\n",
    "\n",
    "# and here the residuals relative to the true input source\n",
    "plt.matshow(source_reconstructed_2d - image_high_res_nolens_large)\n",
    "plt.show()"
   ]
  },
  {
   "cell_type": "code",
   "execution_count": null,
   "metadata": {
    "collapsed": true
   },
   "outputs": [],
   "source": []
  }
 ],
 "metadata": {
  "kernelspec": {
   "display_name": "Python 2",
   "language": "python",
   "name": "python2"
  },
  "language_info": {
   "codemirror_mode": {
    "name": "ipython",
    "version": 2
   },
   "file_extension": ".py",
   "mimetype": "text/x-python",
   "name": "python",
   "nbconvert_exporter": "python",
   "pygments_lexer": "ipython2",
   "version": "2.7.10"
  }
 },
 "nbformat": 4,
 "nbformat_minor": 1
}
