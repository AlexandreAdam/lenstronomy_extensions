{
 "cells": [
  {
   "cell_type": "markdown",
   "metadata": {},
   "source": [
    "# Skypy meets lenstronomy\n",
    "This notebooks provides examples in how to use the lenstronomy.SimulationAPI modules in conjunction with skypy in simulating (realistic) mock lenses taylored to a specific observation and instrument.\n",
    "\n",
    "- skpypy: https://github.com/skypyproject/skypy\n",
    "- lenstronomy: https://github.com/sibirrer/lenstronomy\n",
    "\n",
    "\n",
    "This notebook runs with skypy version 0.3 (current master branch, not yet released on PyPi) and lenstronomy version 1.6.0\n",
    "Please make sure you appropriately credit the projects.\n",
    "\n",
    "\n",
    "Authors: Simon Birrer [https://github.com/sibirrer] and Nicolas Tessore [https://github.com/ntessore]\n",
    "\n",
    "last modified: 2.10.2020"
   ]
  },
  {
   "cell_type": "code",
   "execution_count": 1,
   "metadata": {},
   "outputs": [],
   "source": [
    "# standard imports\n",
    "\n",
    "import copy\n",
    "import os\n",
    "import numpy as np\n",
    "import random\n",
    "from PIL import Image\n",
    "import matplotlib.pyplot as plt\n",
    "%matplotlib inline\n",
    "\n",
    "# lenstronomy module import\n",
    "from lenstronomy.SimulationAPI.sim_api import SimAPI\n",
    "import lenstronomy.Plots.plot_util as plot_util\n",
    "from lenstronomy.Util import constants\n",
    "\n",
    "# skypy imports\n",
    "import skypy\n",
    "from skypy.pipeline import Pipeline"
   ]
  },
  {
   "cell_type": "markdown",
   "metadata": {},
   "source": [
    "## Define camera and observations\n",
    "As an example, we define the camera and observational settings of a DES-like observation. We define one camera setting and three different observations corresponding th g,r,i imaging.\n",
    "\n",
    "For the complete list of possible settings, we refer to the SimulationAPI.observation_api classes. There are pre-configured settings which approximately mimic observations from current and future instruments. Be careful using those and check whether they are sufficiently accurate for your specific science case!"
   ]
  },
  {
   "cell_type": "code",
   "execution_count": 2,
   "metadata": {},
   "outputs": [],
   "source": [
    "# Instrument setting from pre-defined configurations\n",
    "\n",
    "from lenstronomy.SimulationAPI.ObservationConfig.DES import DES\n",
    "\n",
    "DES_g = DES(band='g', psf_type='GAUSSIAN', coadd_years=5)\n",
    "kwargs_g_band = DES_g.kwargs_single_band()\n",
    "DES_r = DES(band='r', psf_type='GAUSSIAN', coadd_years=5)\n",
    "kwargs_r_band = DES_r.kwargs_single_band()\n",
    "DES_i = DES(band='i', psf_type='GAUSSIAN', coadd_years=5)\n",
    "kwargs_i_band = DES_i.kwargs_single_band()\n",
    "\n"
   ]
  },
  {
   "cell_type": "markdown",
   "metadata": {},
   "source": [
    "## Define model settings\n",
    "\n",
    "The model settings are handled by the SimulationAPI.model_api ModelAPI class. \n",
    "The role is to return instances of the lenstronomy LightModel, LensModel, PointSource modules according to the options chosen by the user. Currently, all other model choices are equivalent to the ones provided by LightModel, LensModel, PointSource.\n",
    "The current options of the class instance only describe a subset of possibilities and we refer to the specific class instances for details about all the possibilities.\n",
    "\n",
    "For this example, we chose a single lens plane and a single source plane, elliptical Sersic profiles and an additional lensed point source."
   ]
  },
  {
   "cell_type": "code",
   "execution_count": 3,
   "metadata": {},
   "outputs": [],
   "source": [
    "kwargs_model = {'lens_model_list': ['SIE', 'SHEAR'],  # list of lens models to be used\n",
    "                'lens_light_model_list': ['SERSIC_ELLIPSE'],  # list of unlensed light models to be used\n",
    "                'source_light_model_list': ['SERSIC_ELLIPSE'],  # list of extended source models to be used\n",
    "    }"
   ]
  },
  {
   "cell_type": "markdown",
   "metadata": {},
   "source": [
    "## Generate lenstronomy SimAPI instance for the different observations\n",
    "Here we make an instanbce of the SimAPI class and execute the major tasks accessible as the interface to the ImSim core module."
   ]
  },
  {
   "cell_type": "code",
   "execution_count": 4,
   "metadata": {},
   "outputs": [],
   "source": [
    "numpix = 64  # number of pixels per axis of the image to be modelled\n",
    "\n",
    "# here we define the numerical options used in the ImSim module. \n",
    "# Have a look at the ImageNumerics class for detailed descriptions.\n",
    "# If not further specified, the default settings are used.\n",
    "kwargs_numerics = {'point_source_supersampling_factor': 1, 'supersampling_factor': 3}\n",
    "\n",
    "sim_g = SimAPI(numpix=numpix, kwargs_single_band=kwargs_g_band, kwargs_model=kwargs_model)\n",
    "sim_r = SimAPI(numpix=numpix, kwargs_single_band=kwargs_r_band, kwargs_model=kwargs_model)\n",
    "sim_i = SimAPI(numpix=numpix, kwargs_single_band=kwargs_i_band, kwargs_model=kwargs_model)\n",
    "\n",
    "# return the ImSim instance. With this class instance, you can compute all the\n",
    "# modelling accessible of the core modules. See class documentation and other notebooks.\n",
    "imSim_g = sim_g.image_model_class(kwargs_numerics)\n",
    "imSim_r = sim_r.image_model_class(kwargs_numerics)\n",
    "imSim_i = sim_i.image_model_class(kwargs_numerics)"
   ]
  },
  {
   "cell_type": "markdown",
   "metadata": {},
   "source": [
    "## Generate galaxy population with skypy\n",
    "\n",
    "We are using skypy to render a galaxy distribution in terms of brightness, color and size.\n",
    "Skypy uses a yml file as a configuration and a pipeline with an astropy.table return format."
   ]
  },
  {
   "cell_type": "code",
   "execution_count": 5,
   "metadata": {},
   "outputs": [
    {
     "name": "stderr",
     "output_type": "stream",
     "text": [
      "WARNING: IERSStaleWarning: leap-second file is expired. [astropy.utils.iers.iers]\n"
     ]
    },
    {
     "name": "stdout",
     "output_type": "stream",
     "text": [
      "{'cosmology': FlatLambdaCDM(name=\"Planck15\", H0=67.7 km / (Mpc s), Om0=0.307, Tcmb0=2.725 K, Neff=3.05, m_nu=[0.   0.   0.06] eV, Ob0=0.0486), 'red': <Table length=6123>\n",
      "        z              ellipticity     ...      angular_size     \n",
      "                                       ...          rad          \n",
      "     float64             float64       ...        float64        \n",
      "------------------ ------------------- ... ----------------------\n",
      "0.7995810944450693 0.19897946811271186 ...  4.358035771628753e-07\n",
      "2.6552823938283687 0.11742861091920291 ... 6.8500817173824704e-06\n",
      "1.1500646324222665  0.3883616822502175 ... 1.0674906416783986e-06\n",
      "1.6982982351063705 0.24120842626524697 ...  2.395628039803265e-07\n",
      " 1.563508133607263 0.40659310032294704 ... 2.9406676361729285e-06\n",
      "3.5961043172986025  0.2920310227620167 ... 1.5890539878212484e-06\n",
      "3.3240263630215905  0.6516842893110235 ...   2.01900726747735e-06\n",
      "4.2594937435477735  0.2726802703294373 ... 1.0173458576116444e-06\n",
      "1.3639312787785758 0.40111863487336086 ...  1.601107187863979e-08\n",
      "               ...                 ... ...                    ...\n",
      "  4.40545586196483  0.2426085428700842 ...  6.530584642833686e-08\n",
      "1.4231293881784832  0.5247963201895808 ...  4.719512332458973e-07\n",
      "0.3203893299815687 0.22308527840323641 ...  6.906751436966419e-07\n",
      "2.2229255081790518  0.3283634012540053 ...  5.887909022334332e-07\n",
      " 4.790745410779782  0.5274216701919846 ... 1.1762048383823768e-05\n",
      "2.1371097382125046  0.1885266488780193 ... 1.5115781080318377e-06\n",
      "1.9258756827381944  0.8004967985901354 ... 1.9280890857313845e-06\n",
      " 1.648297232258793 0.21111480141692823 ...  1.384155964754305e-06\n",
      "0.8494128221357141  0.6554859721442794 ...  7.209527776583994e-07\n",
      "0.8244487161402833 0.03669572785945161 ...  7.582383495036332e-07, 'blue': <Table length=1110580>\n",
      "        z              ellipticity     ...      angular_size     \n",
      "                                       ...          rad          \n",
      "     float64             float64       ...        float64        \n",
      "------------------ ------------------- ... ----------------------\n",
      " 1.518057171466335 0.49988347606015693 ...  7.728713618473481e-07\n",
      "3.3785388855579246  0.6090284421241124 ... 2.4359212481312966e-07\n",
      "1.0764590786797537 0.21529951852773835 ... 1.7999816625533246e-07\n",
      " 3.442549466935912 0.21165902425177485 ...  8.166976892585412e-07\n",
      " 4.365165386024976  0.6726470197135359 ...  9.753901371165853e-07\n",
      "1.1638544955325356  0.6373454944332317 ... 1.5666091666543024e-07\n",
      "1.7983134782888448  0.8733679518624695 ... 3.5296908857016704e-07\n",
      " 1.125435115357754 0.24541018238000054 ...   3.00513261923022e-07\n",
      "3.7056909433375482 0.09554924615374967 ...  4.746008494306243e-07\n",
      "               ...                 ... ...                    ...\n",
      "2.6328769493373074  0.5842590982814224 ... 4.5446071098984634e-07\n",
      " 3.769554615073508  0.5147821291277483 ... 1.9711388331054377e-07\n",
      "2.1396168724635403 0.30551993119238946 ... 1.2231986291178905e-06\n",
      "1.5333447061372532  0.8614127870536537 ...  9.155687145872164e-08\n",
      "1.8182745621511145  0.4809679189382982 ... 4.2295842730193986e-07\n",
      " 1.812849812836758  0.6213070529352973 ...  1.100067346667426e-06\n",
      "3.6048398283065657  0.5516031555693834 ...   6.90113204138488e-07\n",
      " 4.009685678714044  0.7013490227570612 ... 1.0589661174585476e-06\n",
      " 4.696310562267445  0.5273217274267644 ...  9.893768774809077e-07\n",
      " 4.249687858843253 0.16867641860319643 ... 1.5297678687606185e-07, 'alpha_red': -0.5, 'phi_star_red': <Exponential1D(amplitude=0.0035097, tau=-1.41649)>, 'M_star_red': <Linear1D(slope=-0.70798041, intercept=-20.37196157)>, 'alpha_blue': -1.3, 'phi_star_blue': <Exponential1D(amplitude=0.00370253, tau=-9.73858)>, 'M_star_blue': <Linear1D(slope=-0.9408582, intercept=-20.40492365)>, 'z_range': array([0. , 0.1, 0.2, 0.3, 0.4, 0.5, 0.6, 0.7, 0.8, 0.9, 1. , 1.1, 1.2,\n",
      "       1.3, 1.4, 1.5, 1.6, 1.7, 1.8, 1.9, 2. , 2.1, 2.2, 2.3, 2.4, 2.5,\n",
      "       2.6, 2.7, 2.8, 2.9, 3. , 3.1, 3.2, 3.3, 3.4, 3.5, 3.6, 3.7, 3.8,\n",
      "       3.9, 4. , 4.1, 4.2, 4.3, 4.4, 4.5, 4.6, 4.7, 4.8, 4.9, 5. ]), 'fsky': 2.42407e-06, 'mag_lim': 35}\n"
     ]
    }
   ],
   "source": [
    "\n",
    "# config file relative to the path of this jupyter notebook\n",
    "path = os.getcwd()\n",
    "dirpath, _ = os.path.split(path)\n",
    "module_path, _ = os.path.split(dirpath)\n",
    "skypy_donfig = os.path.join(module_path, 'Data/SkyPy/des-like.yml')\n",
    "\n",
    "\n",
    "pipeline = Pipeline.read(skypy_donfig)\n",
    "# run the pipeline\n",
    "pipeline.execute()\n",
    "# access the results\n",
    "print(pipeline.state)"
   ]
  },
  {
   "cell_type": "code",
   "execution_count": 6,
   "metadata": {},
   "outputs": [],
   "source": [
    "\n",
    "\n",
    "def lenstronomy_config(pipeline, mag_cut=25, z_min=0.5, z_max=2, galaxy_type='bue', position_scatter=0.5):\n",
    "    \"\"\"\n",
    "    keyword arguments of lenstronomy Sersic function selected from the skypy catalogue\n",
    "    \"\"\"\n",
    "    source_cut = (pipeline[galaxy_type]['z'] > z_min) & (pipeline[galaxy_type]['z'] < z_max) & (pipeline[galaxy_type]['mag_g'] < mag_cut)\n",
    "    pipeline_cut = pipeline[galaxy_type][source_cut]\n",
    "    n = len(pipeline_cut)\n",
    "    index = random.randint(0, n-1)\n",
    "    source = pipeline_cut[index]\n",
    "\n",
    "    size_arcsec = source['angular_size'] / constants.arcsec  # convert radian to arc seconds\n",
    "    mag_g, mag_r, mag_i = source['mag_g'], source['mag_r'], source['mag_i']\n",
    "    mag_apparent = source['distmod'] + source['M']\n",
    "    e = source['ellipticity']\n",
    "    phi = np.random.uniform(0, np.pi)\n",
    "    e1 = e * np.cos(phi)\n",
    "    e2 = e * np.sin(phi)\n",
    "    center_x, center_y = np.random.uniform(-position_scatter, position_scatter), np.random.uniform(-position_scatter, position_scatter)\n",
    "    kwargs_galaxy_g = [{'magnitude': mag_g, 'R_sersic': size_arcsec, 'n_sersic': 1, \n",
    "                     'e1': e1, 'e2': e2, 'center_x': center_x, 'center_y': center_y}]\n",
    "    kwargs_galaxy_r = [{'magnitude': mag_r, 'R_sersic': size_arcsec, 'n_sersic': 1, \n",
    "                     'e1': e1, 'e2': e2, 'center_x': center_x, 'center_y': center_y}]\n",
    "    kwargs_galaxy_i = [{'magnitude': mag_i, 'R_sersic': size_arcsec, 'n_sersic': 1, \n",
    "                     'e1': e1, 'e2': e2, 'center_x': center_x, 'center_y': center_y}]\n",
    "    return [kwargs_galaxy_g, kwargs_galaxy_r, kwargs_galaxy_i]\n",
    "\n"
   ]
  },
  {
   "cell_type": "markdown",
   "metadata": {},
   "source": [
    "## setting lens model parameters\n",
    "And finally we need a lens model. The default lensing units are in observed deflection angle (arc seconds) mapping the image to the source plane (reduced angles). In a single lens and single source plane model, this is all we need to specify and no futher cosmology is required. Skypy offers an abundance matching module to link mass and light from their catalogue (not demonstrated in this notebook)."
   ]
  },
  {
   "cell_type": "code",
   "execution_count": 7,
   "metadata": {},
   "outputs": [],
   "source": [
    "kwargs_lens = [\n",
    "    {'theta_E': 2.5, 'e1': 0.4, 'e2': -0.1, 'center_x': 0, 'center_y': 0},  # SIE model\n",
    "    {'gamma1': 0.03, 'gamma2': 0.01, 'ra_0': 0, 'dec_0': 0}  # SHEAR model\n",
    "]\n"
   ]
  },
  {
   "cell_type": "markdown",
   "metadata": {},
   "source": [
    "## simluate image\n",
    "Finally we can simulate the images with the ImageModel class instance and the lenstronomy parameters for the different bands. Note that in the specific example we included a point source (representing a quasar) in the center of the lensed galaxy. The SimulationAPI supports various options. Further down below we simulate multi-lens multi-source plane configurations too."
   ]
  },
  {
   "cell_type": "code",
   "execution_count": 29,
   "metadata": {},
   "outputs": [
    {
     "name": "stdout",
     "output_type": "stream",
     "text": [
      "[[{'magnitude': 21.23127624722966, 'R_sersic': 1.2257885112350047, 'n_sersic': 1, 'e1': -0.05814892722900562, 'e2': 0.04421621742760822, 'center_x': 0.47968685039699666, 'center_y': 0.487012560999432}], [{'magnitude': 20.352884179597925, 'R_sersic': 1.2257885112350047, 'n_sersic': 1, 'e1': -0.05814892722900562, 'e2': 0.04421621742760822, 'center_x': 0.47968685039699666, 'center_y': 0.487012560999432}], [{'magnitude': 20.016953925997704, 'R_sersic': 1.2257885112350047, 'n_sersic': 1, 'e1': -0.05814892722900562, 'e2': 0.04421621742760822, 'center_x': 0.47968685039699666, 'center_y': 0.487012560999432}]]\n"
     ]
    },
    {
     "data": {
      "image/png": "[encoded data removed]",
      "text/plain": [
       "<Figure size 432x288 with 1 Axes>"
      ]
     },
     "metadata": {
      "needs_background": "light"
     },
     "output_type": "display_data"
    }
   ],
   "source": [
    "\n",
    "kwargs_source = lenstronomy_config(pipeline, mag_cut=22, z_min=0.5, z_max=2, galaxy_type='blue', position_scatter=0.5)\n",
    "kwargs_lens_light = lenstronomy_config(pipeline, mag_cut=20, z_min=0.1, z_max=0.7, galaxy_type='red', position_scatter=0)\n",
    "\n",
    "print(kwargs_source)\n",
    "# turn magnitude kwargs into lenstronomy kwargs\n",
    "kwargs_lens_light_g, kwargs_source_g, kwargs_ps_g = sim_g.magnitude2amplitude(kwargs_lens_light[0], kwargs_source[0])\n",
    "kwargs_lens_light_r, kwargs_source_r, kwargs_ps_r = sim_r.magnitude2amplitude(kwargs_lens_light[1], kwargs_source[1])\n",
    "kwargs_lens_light_i, kwargs_source_i, kwargs_ps_i = sim_i.magnitude2amplitude(kwargs_lens_light[2], kwargs_source[2])\n",
    "\n",
    "\n",
    "\n",
    "image_g = imSim_g.image(kwargs_lens, kwargs_source_g, kwargs_lens_light_g, kwargs_ps_g)\n",
    "image_r = imSim_r.image(kwargs_lens, kwargs_source_r, kwargs_lens_light_r, kwargs_ps_r)\n",
    "image_i = imSim_i.image(kwargs_lens, kwargs_source_i, kwargs_lens_light_i, kwargs_ps_i)\n",
    "\n",
    "# add noise\n",
    "image_g += sim_g.noise_for_model(model=image_g)\n",
    "image_r += sim_r.noise_for_model(model=image_r)\n",
    "image_i += sim_i.noise_for_model(model=image_i)\n",
    "\n",
    "# and plot it\n",
    "\n",
    "img = np.zeros((image_g.shape[0], image_g.shape[1], 3), dtype=float)\n",
    "img[:,:,0] = plot_util.sqrt(image_g, scale_min=0, scale_max=10)\n",
    "img[:,:,1] = plot_util.sqrt(image_r, scale_min=0, scale_max=30)\n",
    "img[:,:,2] = plot_util.sqrt(image_i, scale_min=0, scale_max=50)\n",
    "\n",
    "plt.clf()\n",
    "plt.imshow(img, aspect='equal', origin='lower')\n",
    "plt.show()"
   ]
  },
  {
   "cell_type": "code",
   "execution_count": null,
   "metadata": {},
   "outputs": [],
   "source": []
  }
 ],
 "metadata": {
  "kernelspec": {
   "display_name": "Python 3",
   "language": "python",
   "name": "python3"
  },
  "language_info": {
   "codemirror_mode": {
    "name": "ipython",
    "version": 3
   },
   "file_extension": ".py",
   "mimetype": "text/x-python",
   "name": "python",
   "nbconvert_exporter": "python",
   "pygments_lexer": "ipython3",
   "version": "3.6.9"
  }
 },
 "nbformat": 4,
 "nbformat_minor": 2
}
