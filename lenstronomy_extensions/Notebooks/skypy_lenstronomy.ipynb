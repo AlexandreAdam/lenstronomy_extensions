{
 "cells": [
  {
   "cell_type": "markdown",
   "metadata": {},
   "source": [
    "# Skypy meets lenstronomy\n",
    "This notebooks provides examples in how to use the lenstronomy.SimulationAPI modules in conjunction with skypy in simulating (realistic) mock lenses taylored to a specific observation and instrument.\n",
    "\n",
    "- skpypy: https://github.com/skypyproject/skypy\n",
    "- lenstronomy: https://github.com/sibirrer/lenstronomy\n",
    "\n",
    "\n",
    "This notebook runs with skypy version 0.3 and lenstronomy version 1.6.0\n",
    "Please make sure you appropriately credit the projects.\n",
    "\n",
    "\n",
    "Authors: Simon Birrer [https://github.com/sibirrer] and Nicolas Tessore [https://github.com/ntessore]\n",
    "\n",
    "last modified: 8.10.2020"
   ]
  },
  {
   "cell_type": "code",
   "execution_count": 1,
   "metadata": {},
   "outputs": [
    {
     "name": "stderr",
     "output_type": "stream",
     "text": [
      "WARNING: IERSStaleWarning: leap-second file is expired. [astropy.utils.iers.iers]\n"
     ]
    }
   ],
   "source": [
    "# standard imports\n",
    "import copy\n",
    "import os\n",
    "import numpy as np\n",
    "import random\n",
    "from PIL import Image\n",
    "import matplotlib.pyplot as plt\n",
    "%matplotlib inline\n",
    "\n",
    "# lenstronomy module import\n",
    "from lenstronomy.SimulationAPI.sim_api import SimAPI\n",
    "import lenstronomy.Plots.plot_util as plot_util\n",
    "from lenstronomy.Util import constants\n",
    "\n",
    "# skypy imports\n",
    "import skypy\n",
    "from skypy.pipeline import Pipeline"
   ]
  },
  {
   "cell_type": "markdown",
   "metadata": {},
   "source": [
    "## Define camera and observations\n",
    "As an example, we define the camera and observational settings of a DES-like observation. We define one camera setting and three different observations corresponding th g,r,i imaging.\n",
    "\n",
    "For the complete list of possible settings, we refer to the SimulationAPI.observation_api classes. There are pre-configured settings which approximately mimic observations from current and future instruments. Be careful using those and check whether they are sufficiently accurate for your specific science case!"
   ]
  },
  {
   "cell_type": "code",
   "execution_count": 2,
   "metadata": {},
   "outputs": [],
   "source": [
    "# Instrument setting from pre-defined configurations\n",
    "\n",
    "from lenstronomy.SimulationAPI.ObservationConfig.DES import DES\n",
    "\n",
    "DES_g = DES(band='g', psf_type='GAUSSIAN', coadd_years=5)\n",
    "kwargs_g_band = DES_g.kwargs_single_band()\n",
    "DES_r = DES(band='r', psf_type='GAUSSIAN', coadd_years=5)\n",
    "kwargs_r_band = DES_r.kwargs_single_band()\n",
    "DES_i = DES(band='i', psf_type='GAUSSIAN', coadd_years=5)\n",
    "kwargs_i_band = DES_i.kwargs_single_band()\n",
    "\n"
   ]
  },
  {
   "cell_type": "markdown",
   "metadata": {},
   "source": [
    "## Define model settings\n",
    "\n",
    "The model settings are handled by the SimulationAPI.model_api ModelAPI class. \n",
    "The role is to return instances of the lenstronomy LightModel, LensModel, PointSource modules according to the options chosen by the user. Currently, all other model choices are equivalent to the ones provided by LightModel, LensModel, PointSource.\n",
    "The current options of the class instance only describe a subset of possibilities and we refer to the specific class instances for details about all the possibilities.\n",
    "\n",
    "For this example, we chose a single lens plane and a single source plane, elliptical Sersic profiles and an additional lensed point source."
   ]
  },
  {
   "cell_type": "code",
   "execution_count": 3,
   "metadata": {},
   "outputs": [],
   "source": [
    "kwargs_model = {'lens_model_list': ['SIE', 'SHEAR'],  # list of lens models to be used\n",
    "                'lens_light_model_list': ['SERSIC_ELLIPSE'],  # list of unlensed light models to be used\n",
    "                'source_light_model_list': ['SERSIC_ELLIPSE'],  # list of extended source models to be used\n",
    "    }"
   ]
  },
  {
   "cell_type": "markdown",
   "metadata": {},
   "source": [
    "## Generate lenstronomy SimAPI instance for the different observations\n",
    "Here we make an instanbce of the SimAPI class and execute the major tasks accessible as the interface to the ImSim core module."
   ]
  },
  {
   "cell_type": "code",
   "execution_count": 4,
   "metadata": {},
   "outputs": [],
   "source": [
    "numpix = 64  # number of pixels per axis of the image to be modelled\n",
    "\n",
    "# here we define the numerical options used in the ImSim module. \n",
    "# Have a look at the ImageNumerics class for detailed descriptions.\n",
    "# If not further specified, the default settings are used.\n",
    "kwargs_numerics = {'point_source_supersampling_factor': 1, 'supersampling_factor': 3}\n",
    "\n",
    "sim_g = SimAPI(numpix=numpix, kwargs_single_band=kwargs_g_band, kwargs_model=kwargs_model)\n",
    "sim_r = SimAPI(numpix=numpix, kwargs_single_band=kwargs_r_band, kwargs_model=kwargs_model)\n",
    "sim_i = SimAPI(numpix=numpix, kwargs_single_band=kwargs_i_band, kwargs_model=kwargs_model)\n",
    "\n",
    "# return the ImSim instance. With this class instance, you can compute all the\n",
    "# modelling accessible of the core modules. See class documentation and other notebooks.\n",
    "imSim_g = sim_g.image_model_class(kwargs_numerics)\n",
    "imSim_r = sim_r.image_model_class(kwargs_numerics)\n",
    "imSim_i = sim_i.image_model_class(kwargs_numerics)"
   ]
  },
  {
   "cell_type": "markdown",
   "metadata": {},
   "source": [
    "## Generate galaxy population with skypy\n",
    "\n",
    "We are using skypy to render a galaxy distribution in terms of brightness, color and size.\n",
    "Skypy uses a yml file as a configuration and a pipeline with an astropy.table return format."
   ]
  },
  {
   "cell_type": "code",
   "execution_count": 5,
   "metadata": {},
   "outputs": [
    {
     "name": "stdout",
     "output_type": "stream",
     "text": [
      "{'cosmology': FlatLambdaCDM(name=\"Planck15\", H0=67.7 km / (Mpc s), Om0=0.307, Tcmb0=2.725 K, Neff=3.05, m_nu=[0.   0.   0.06] eV, Ob0=0.0486), 'red': <Table length=6322>\n",
      "        z              ellipticity      ...      angular_size     \n",
      "                                        ...          rad          \n",
      "     float64             float64        ...        float64        \n",
      "------------------ -------------------- ... ----------------------\n",
      "0.9282597059888749   0.4599001709908468 ...  5.537925080116925e-07\n",
      "  4.00625122142467   0.3739710691833013 ...  2.860519261088757e-06\n",
      "  1.66051887614416  0.09537924643950932 ...  7.338438917244223e-07\n",
      "0.8061669470692682   0.2957706476547854 ... 2.0289599023849661e-07\n",
      " 2.695103347004924   0.6489698113666583 ... 2.5230578908373523e-07\n",
      "1.0472063396011115   0.5616318351214624 ...  7.328699490651383e-08\n",
      "0.6298961574075059  0.31235154690947675 ... 1.5176471812887932e-08\n",
      " 4.347836529318837   0.5686116513473736 ...  7.363599866672893e-06\n",
      "2.5788861513332666  0.48532434563997173 ...  3.204338245382938e-06\n",
      "               ...                  ... ...                    ...\n",
      "1.2658303252831629   0.8880376708923592 ... 4.7637512522849686e-07\n",
      " 2.118224860243505  0.23359462837513145 ... 2.4911217238622163e-06\n",
      "0.5530780152464678   0.4857184291840233 ... 1.7470814746300524e-06\n",
      "0.8349719918861205   0.4849105229089188 ... 1.9364853070372297e-07\n",
      "2.5512142786899163  0.09209777789375083 ...  8.836282400967124e-07\n",
      " 4.206030577750605   0.6247920429925945 ... 1.6162251661242596e-06\n",
      "0.7113327354401043 0.015322291325009296 ...  3.755371472214855e-08\n",
      "1.4503499739427417  0.13382339063732104 ... 3.0857338460980905e-07\n",
      " 2.144638023842009  0.49143229679887634 ... 3.5428421897585323e-07\n",
      " 3.593351832709173   0.3546649462744693 ...  6.397092846201764e-06, 'blue': <Table length=1110812>\n",
      "         z              ellipticity     ...      angular_size     \n",
      "                                        ...          rad          \n",
      "      float64             float64       ...        float64        \n",
      "------------------- ------------------- ... ----------------------\n",
      "0.42097204771818986  0.8262841560941125 ... 3.0234973420729775e-07\n",
      "  2.202520948764169  0.6467178191962445 ...  5.355541003895868e-07\n",
      " 1.0799633190425637  0.7409312023867803 ...  2.465055392598717e-07\n",
      "  3.845343869888504 0.08707384958670994 ...  7.313989606972184e-07\n",
      "  3.163310739814559   0.831059096753195 ...  7.888252681725738e-08\n",
      " 2.5525446191329797 0.19871449834692706 ...  2.600871798586696e-07\n",
      "  3.819902174680169  0.6022083139180223 ...  6.410261599779994e-07\n",
      " 0.8849709064512606   0.853105668272008 ... 3.7791145429074883e-07\n",
      "  2.675410736111973 0.16498087108027298 ...  2.410238870663017e-07\n",
      "                ...                 ... ...                    ...\n",
      " 3.5874673339885863  0.7743798904234763 ...  4.363470139716417e-07\n",
      " 3.3286274078865015  0.9611741597401077 ...  5.745231209605357e-07\n",
      " 1.4196302447911158  0.2988556648919702 ...  2.242481604178301e-07\n",
      "  4.279646743329753 0.44895585293048834 ...  3.063228981846985e-07\n",
      " 1.0656814435727813 0.31648390320081426 ... 1.9895392047006043e-07\n",
      " 0.7054089850392492 0.45326938114932097 ... 2.3525888261929223e-07\n",
      "  4.295987395866626 0.34269421628526753 ... 1.1349020297611762e-06\n",
      " 1.8849234267499193  0.6518091746911057 ... 2.4990561860958106e-07\n",
      " 1.9571584363920245  0.0927426861189806 ... 1.2354191766860696e-07\n",
      " 1.3574576964116123  0.3789631248328162 ...  3.694602957806234e-07, 'alpha_red': -0.5, 'phi_star_red': <Exponential1D(amplitude=0.0035097, tau=-1.41649)>, 'M_star_red': <Linear1D(slope=-0.70798041, intercept=-20.37196157)>, 'alpha_blue': -1.3, 'phi_star_blue': <Exponential1D(amplitude=0.00370253, tau=-9.73858)>, 'M_star_blue': <Linear1D(slope=-0.9408582, intercept=-20.40492365)>, 'z_range': array([0. , 0.1, 0.2, 0.3, 0.4, 0.5, 0.6, 0.7, 0.8, 0.9, 1. , 1.1, 1.2,\n",
      "       1.3, 1.4, 1.5, 1.6, 1.7, 1.8, 1.9, 2. , 2.1, 2.2, 2.3, 2.4, 2.5,\n",
      "       2.6, 2.7, 2.8, 2.9, 3. , 3.1, 3.2, 3.3, 3.4, 3.5, 3.6, 3.7, 3.8,\n",
      "       3.9, 4. , 4.1, 4.2, 4.3, 4.4, 4.5, 4.6, 4.7, 4.8, 4.9, 5. ]), 'fsky': 2.42407e-06, 'mag_lim': 35}\n"
     ]
    }
   ],
   "source": [
    "\n",
    "# config file relative to the path of this jupyter notebook\n",
    "path = os.getcwd()\n",
    "dirpath, _ = os.path.split(path)\n",
    "module_path, _ = os.path.split(dirpath)\n",
    "skypy_donfig = os.path.join(module_path, 'Data/SkyPy/des-like.yml')\n",
    "\n",
    "\n",
    "pipeline = Pipeline.read(skypy_donfig)\n",
    "# run the pipeline\n",
    "pipeline.execute()\n",
    "# access the results\n",
    "print(pipeline.state)"
   ]
  },
  {
   "cell_type": "code",
   "execution_count": 6,
   "metadata": {},
   "outputs": [],
   "source": [
    "\n",
    "\n",
    "def lenstronomy_config(pipeline, mag_cut=25, z_min=0.5, z_max=2, galaxy_type='bue', position_scatter=0.5):\n",
    "    \"\"\"\n",
    "    keyword arguments of lenstronomy Sersic function selected from the skypy catalogue\n",
    "    \"\"\"\n",
    "    source_cut = (pipeline[galaxy_type]['z'] > z_min) & (pipeline[galaxy_type]['z'] < z_max) & (pipeline[galaxy_type]['mag_g'] < mag_cut)\n",
    "    pipeline_cut = pipeline[galaxy_type][source_cut]\n",
    "    n = len(pipeline_cut)\n",
    "    index = random.randint(0, n-1)\n",
    "    source = pipeline_cut[index]\n",
    "\n",
    "    size_arcsec = source['angular_size'] / constants.arcsec  # convert radian to arc seconds\n",
    "    mag_g, mag_r, mag_i = source['mag_g'], source['mag_r'], source['mag_i']\n",
    "    mag_apparent = source['distmod'] + source['M']\n",
    "    e = source['ellipticity']\n",
    "    phi = np.random.uniform(0, np.pi)\n",
    "    e1 = e * np.cos(phi)\n",
    "    e2 = e * np.sin(phi)\n",
    "    if galaxy_type == 'blue':\n",
    "        n_sersic = 1\n",
    "    else:\n",
    "        n_sersic = 4\n",
    "    center_x, center_y = np.random.uniform(-position_scatter, position_scatter), np.random.uniform(-position_scatter, position_scatter)\n",
    "    kwargs_galaxy_g = [{'magnitude': mag_g, 'R_sersic': size_arcsec, 'n_sersic': 1, \n",
    "                     'e1': e1, 'e2': e2, 'center_x': center_x, 'center_y': center_y}]\n",
    "    kwargs_galaxy_r = [{'magnitude': mag_r, 'R_sersic': size_arcsec, 'n_sersic': 1, \n",
    "                     'e1': e1, 'e2': e2, 'center_x': center_x, 'center_y': center_y}]\n",
    "    kwargs_galaxy_i = [{'magnitude': mag_i, 'R_sersic': size_arcsec, 'n_sersic': 1, \n",
    "                     'e1': e1, 'e2': e2, 'center_x': center_x, 'center_y': center_y}]\n",
    "    return [kwargs_galaxy_g, kwargs_galaxy_r, kwargs_galaxy_i]\n",
    "\n"
   ]
  },
  {
   "cell_type": "markdown",
   "metadata": {},
   "source": [
    "## setting lens model parameters\n",
    "And finally we need a lens model. The default lensing units are in observed deflection angle (arc seconds) mapping the image to the source plane (reduced angles). In a single lens and single source plane model, this is all we need to specify and no futher cosmology is required. Skypy offers an abundance matching module to link mass and light from their catalogue (not demonstrated in this notebook)."
   ]
  },
  {
   "cell_type": "code",
   "execution_count": 7,
   "metadata": {},
   "outputs": [],
   "source": [
    "kwargs_lens = [\n",
    "    {'theta_E': 1.5, 'e1': 0.4, 'e2': -0.1, 'center_x': 0, 'center_y': 0},  # SIE model\n",
    "    {'gamma1': 0.03, 'gamma2': 0.01, 'ra_0': 0, 'dec_0': 0}  # SHEAR model\n",
    "]\n"
   ]
  },
  {
   "cell_type": "markdown",
   "metadata": {},
   "source": [
    "## simluate image\n",
    "Finally we can simulate the images with the ImageModel class instance and the lenstronomy parameters for the different bands. Note that in the specific example we included a point source (representing a quasar) in the center of the lensed galaxy. The SimulationAPI supports various options. Further down below we simulate multi-lens multi-source plane configurations too."
   ]
  },
  {
   "cell_type": "code",
   "execution_count": 8,
   "metadata": {},
   "outputs": [
    {
     "name": "stdout",
     "output_type": "stream",
     "text": [
      "[[{'magnitude': 21.933562086633064, 'R_sersic': 0.5930142115848237, 'n_sersic': 1, 'e1': 0.1824393671975617, 'e2': 0.7520840010954243, 'center_x': 0.005368146605843616, 'center_y': 0.2563803935847587}], [{'magnitude': 21.20695806378689, 'R_sersic': 0.5930142115848237, 'n_sersic': 1, 'e1': 0.1824393671975617, 'e2': 0.7520840010954243, 'center_x': 0.005368146605843616, 'center_y': 0.2563803935847587}], [{'magnitude': 20.75634356454328, 'R_sersic': 0.5930142115848237, 'n_sersic': 1, 'e1': 0.1824393671975617, 'e2': 0.7520840010954243, 'center_x': 0.005368146605843616, 'center_y': 0.2563803935847587}]]\n"
     ]
    },
    {
     "data": {
      "image/png": "[encoded data removed]",
      "text/plain": [
       "<Figure size 432x288 with 1 Axes>"
      ]
     },
     "metadata": {
      "needs_background": "light"
     },
     "output_type": "display_data"
    }
   ],
   "source": [
    "\n",
    "kwargs_source = lenstronomy_config(pipeline, mag_cut=22, z_min=0.5, z_max=2, galaxy_type='blue', position_scatter=0.5)\n",
    "kwargs_lens_light = lenstronomy_config(pipeline, mag_cut=20, z_min=0.1, z_max=0.7, galaxy_type='red', position_scatter=0)\n",
    "\n",
    "print(kwargs_source)\n",
    "# turn magnitude kwargs into lenstronomy kwargs\n",
    "kwargs_lens_light_g, kwargs_source_g, kwargs_ps_g = sim_g.magnitude2amplitude(kwargs_lens_light[0], kwargs_source[0])\n",
    "kwargs_lens_light_r, kwargs_source_r, kwargs_ps_r = sim_r.magnitude2amplitude(kwargs_lens_light[1], kwargs_source[1])\n",
    "kwargs_lens_light_i, kwargs_source_i, kwargs_ps_i = sim_i.magnitude2amplitude(kwargs_lens_light[2], kwargs_source[2])\n",
    "\n",
    "\n",
    "\n",
    "image_g = imSim_g.image(kwargs_lens, kwargs_source_g, kwargs_lens_light_g, kwargs_ps_g)\n",
    "image_r = imSim_r.image(kwargs_lens, kwargs_source_r, kwargs_lens_light_r, kwargs_ps_r)\n",
    "image_i = imSim_i.image(kwargs_lens, kwargs_source_i, kwargs_lens_light_i, kwargs_ps_i)\n",
    "\n",
    "# add noise\n",
    "image_g += sim_g.noise_for_model(model=image_g)\n",
    "image_r += sim_r.noise_for_model(model=image_r)\n",
    "image_i += sim_i.noise_for_model(model=image_i)\n",
    "\n",
    "# and plot it\n",
    "\n",
    "img = np.zeros((image_g.shape[0], image_g.shape[1], 3), dtype=float)\n",
    "img[:,:,0] = plot_util.sqrt(image_g, scale_min=0, scale_max=10)\n",
    "img[:,:,1] = plot_util.sqrt(image_r, scale_min=0, scale_max=50)\n",
    "img[:,:,2] = plot_util.sqrt(image_i, scale_min=0, scale_max=50)\n",
    "\n",
    "plt.clf()\n",
    "plt.imshow(img, aspect='equal', origin='lower')\n",
    "plt.show()"
   ]
  },
  {
   "cell_type": "code",
   "execution_count": null,
   "metadata": {},
   "outputs": [],
   "source": []
  }
 ],
 "metadata": {
  "kernelspec": {
   "display_name": "Python 3",
   "language": "python",
   "name": "python3"
  },
  "language_info": {
   "codemirror_mode": {
    "name": "ipython",
    "version": 3
   },
   "file_extension": ".py",
   "mimetype": "text/x-python",
   "name": "python",
   "nbconvert_exporter": "python",
   "pygments_lexer": "ipython3",
   "version": "3.6.9"
  }
 },
 "nbformat": 4,
 "nbformat_minor": 2
}
