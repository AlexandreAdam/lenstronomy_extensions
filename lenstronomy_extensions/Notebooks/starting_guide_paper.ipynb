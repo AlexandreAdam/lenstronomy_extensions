{
 "cells": [
  {
   "cell_type": "markdown",
   "metadata": {},
   "source": [
    "# *lenstronomy* starting guide\n",
    "\n",
    "With this notebook, we describe the basic functionalities of the most important modules of *lenstronomy* with some simple examples. More detailed information about the available routines and their use can be accessed through the online documentation and in other jupyter notebooks."
   ]
  },
  {
   "cell_type": "code",
   "execution_count": 1,
   "metadata": {},
   "outputs": [],
   "source": [
    "# some standard python imports #\n",
    "import numpy as np\n",
    "import matplotlib.pyplot as plt\n",
    "%matplotlib inline"
   ]
  },
  {
   "cell_type": "markdown",
   "metadata": {},
   "source": [
    "## $\\texttt{LensModel}$ module\n",
    "$\\texttt{LensModel}$ and its sub-packages execute all the purely lensing related tasks of *lenstronomy*. This includes ray-shooting, solving the lens equation, arrival time computation and non-linear solvers to optimize lens models for specific image configurations. The module allows consistent integration with single and multi plane lensing and an arbitrary superpositions of lens models. There is a wide range of lens models available. For details we refer to to the online-documentation."
   ]
  },
  {
   "cell_type": "markdown",
   "metadata": {},
   "source": [
    "### Single plane lensing\n",
    "As an example of initializing a single plane lens model as a super-position of an elliptical power-law potential and a singular isothermal sphere mass distribution and execute some basic routines:"
   ]
  },
  {
   "cell_type": "code",
   "execution_count": 2,
   "metadata": {},
   "outputs": [],
   "source": [
    "# import the LensModel class #\n",
    "from lenstronomy.LensModel.lens_model import LensModel\n",
    "\n",
    "# specify the choice of lens models #\n",
    "lens_model_list = ['SPEP', 'SHEAR', 'SIS']\n",
    "\n",
    "# setup lens model class with the list of lens models #\n",
    "lensModel = LensModel(lens_model_list=lens_model_list)\n",
    "\n",
    "# define parameter values of lens models #\n",
    "kwargs_spep = {'theta_E': .9, 'e1': 0.05, 'e2': 0.05, 'gamma': 2., 'center_x': 0.1, 'center_y': 0}\n",
    "kwargs_shear = {'e1': 0.05, 'e2': 0.0}\n",
    "kwargs_sis = {'theta_E': 0.1, 'center_x': 1., 'center_y': -0.1}\n",
    "kwargs_lens = [kwargs_spep, kwargs_shear, kwargs_sis]\n",
    "\n",
    "# image plane coordinate #\n",
    "theta_ra, theta_dec = .9, .4\n",
    "\n",
    "# source plane coordinate #\n",
    "beta_ra, beta_dec = lensModel.ray_shooting(theta_ra, theta_dec, kwargs_lens)\n",
    "# Fermat potential #\n",
    "fermat_pot = lensModel.fermat_potential(x_image=theta_ra, y_image=theta_dec, x_source=beta_ra, y_source=beta_dec, kwargs_lens=kwargs_lens)\n",
    "\n",
    "# Magnification #\n",
    "mag = lensModel.magnification(theta_ra, theta_dec, kwargs_lens)"
   ]
  },
  {
   "cell_type": "markdown",
   "metadata": {},
   "source": [
    "Additionally, the $\\texttt{LensModel}$ class allows to compute the Hessian matrix, shear and convergence, deflection angle and lensing potential. These routines are fully compatible with the numpy array structure and as a superposition of an arbitrary number of single lens models."
   ]
  },
  {
   "cell_type": "markdown",
   "metadata": {},
   "source": [
    "### Multi-plane lensing\n",
    "\n",
    "The multi-plane setting of $\\texttt{LensModel}$ allows to place the different deflector models at different redshfits. When not further specified, the default cosmology of the $\\texttt{astropy}$ cosmology class. The interface to access the lensing functionalities remains the same:"
   ]
  },
  {
   "cell_type": "code",
   "execution_count": 3,
   "metadata": {},
   "outputs": [],
   "source": [
    "# keep the imports and variables from above #\n",
    "# specify redshifts of deflectors #\n",
    "redshift_list = [0.5, 0.5,.1]\n",
    "# specify source redshift #\n",
    "z_source = 1.5\n",
    "# setup lens model class with the list of lens models #\n",
    "lensModel_mp = LensModel(lens_model_list=lens_model_list, z_source=z_source, lens_redshift_list=redshift_list, multi_plane=True)\n",
    "\n",
    "# source plane coordinate #\n",
    "beta_ra, beta_dec = lensModel_mp.ray_shooting(theta_ra, theta_dec, kwargs_lens)\n",
    "\n",
    "# Magnification #\n",
    "mag = lensModel_mp.magnification(theta_ra, theta_dec, kwargs_lens)\n",
    "\n",
    "# arrival time relative to a straight path through (0,0) #\n",
    "dt = lensModel_mp.arrival_time(theta_ra, theta_dec, kwargs_lens)"
   ]
  },
  {
   "cell_type": "markdown",
   "metadata": {},
   "source": [
    "### lens equation solver\n",
    "\n",
    "Solving the lens equation to compute the (multiple) image positions of a given source position can be conveniently performed within $\\texttt{LensModel}$ and is supported with a general instance of the $\\texttt{LensModel}$ class."
   ]
  },
  {
   "cell_type": "code",
   "execution_count": 4,
   "metadata": {},
   "outputs": [],
   "source": [
    "# keep the imports and variables from above #\n",
    "# import the lens equation solver class #\n",
    "from lenstronomy.LensModel.Solver.lens_equation_solver import LensEquationSolver\n",
    "\n",
    "# specifiy the lens model class to deal with #\n",
    "solver = LensEquationSolver(lensModel)\n",
    "\n",
    "# solve for image positions provided a lens model and the source position #\n",
    "theta_ra, theta_dec = solver.image_position_from_source(beta_ra, beta_dec, kwargs_lens)\n",
    "\n",
    "# the magnification of the point source images #\n",
    "mag = lensModel.magnification(theta_ra, theta_dec, kwargs_lens)"
   ]
  },
  {
   "cell_type": "markdown",
   "metadata": {},
   "source": [
    "## $\\texttt{LightModel}$ module\n",
    "\n",
    "The $\\texttt{LightModel}$ class provides the functionality to describe galaxy surface brightnesses. $\\texttt{LightModel}$ supports various analytic profiles as well as representations in shapelet basis sets. Any superposition of different profiles is allowed."
   ]
  },
  {
   "cell_type": "code",
   "execution_count": 5,
   "metadata": {},
   "outputs": [],
   "source": [
    "# import the LightModel class #\n",
    "from lenstronomy.LightModel.light_model import LightModel\n",
    "# set up the list of light models to be used #\n",
    "source_light_model_list = ['SERSIC']\n",
    "lightModel_source = LightModel(light_model_list=source_light_model_list)\n",
    "lens_light_model_list = ['SERSIC_ELLIPSE']\n",
    "lightModel_lens = LightModel(light_model_list=lens_light_model_list)\n",
    "# define the parameters #\n",
    "kwargs_light_source = [{'amp': 5000, 'R_sersic': 0.02, 'n_sersic': 1.5, 'center_x': beta_ra, 'center_y': beta_dec}]\n",
    "import lenstronomy.Util.param_util as param_util\n",
    "e1, e2 = param_util.phi_q2_ellipticity(phi=0.5, q=0.7)\n",
    "kwargs_light_lens = [{'amp': 100000, 'R_sersic': 0.1, 'n_sersic': 2.5, 'e1': e1, 'e2': e2, 'center_x': 0.1, 'center_y': 0}]\n",
    "\n",
    "# evaluate surface brightness at a specific position #\n",
    "flux = lightModel_lens.surface_brightness(x=1, y=1, kwargs_list=kwargs_light_lens)"
   ]
  },
  {
   "cell_type": "markdown",
   "metadata": {},
   "source": [
    "## $\\texttt{PointSource}$ module\n",
    "To accurately predict and model the positon and flux of point sources, one has to apply different numerical procedures than for extended surface brightness features. The $\\texttt{PointSource}$ class manages the different options in describing point sources (e.g. in the image plane or source plane, with fixed magnification or allowed with individual variations thereof) and provides a homogeneous interface to access image positions and magnifications."
   ]
  },
  {
   "cell_type": "code",
   "execution_count": 6,
   "metadata": {},
   "outputs": [],
   "source": [
    "# import the PointSource class #\n",
    "from lenstronomy.PointSource.point_source import PointSource\n",
    "\n",
    "# unlensed source positon #\n",
    "point_source_model_list = ['SOURCE_POSITION']\n",
    "pointSource = PointSource(point_source_type_list=point_source_model_list, lensModel=lensModel, fixed_magnification_list=[True])\n",
    "kwargs_ps = [{'ra_source': beta_ra, 'dec_source': beta_dec, 'source_amp': 100}]\n",
    "# return image positions and amplitudes #\n",
    "x_pos, y_pos = pointSource.image_position(kwargs_ps=kwargs_ps, kwargs_lens=kwargs_lens)\n",
    "point_amp = pointSource.image_amplitude(kwargs_ps=kwargs_ps, kwargs_lens=kwargs_lens)\n",
    "\n",
    "# lensed image positions (solution of the lens equation) #\n",
    "point_source_model_list = ['LENSED_POSITION']\n",
    "pointSource = PointSource(point_source_type_list=point_source_model_list, lensModel=lensModel, fixed_magnification_list=[False])\n",
    "kwargs_ps = [{'ra_image': theta_ra, 'dec_image': theta_dec, 'point_amp': np.abs(mag)*30}]\n",
    "# return image positions and amplitudes #\n",
    "x_pos, y_pos = pointSource.image_position(kwargs_ps=kwargs_ps, kwargs_lens=kwargs_lens)\n",
    "point_amp = pointSource.image_amplitude(kwargs_ps=kwargs_ps, kwargs_lens=kwargs_lens)"
   ]
  },
  {
   "cell_type": "markdown",
   "metadata": {},
   "source": [
    "## $\\texttt{Data}$ module\n",
    "The $\\texttt{Data}$ class stores and manages all the imaging data relevant information. This includes the coordinate frame, coordinate-to-pixel transformation (and the inverse), and in case of fitting also noise properties for likelihood estimates. The $\\texttt{PSF}$ class handles the point spread function convolution. Supported are pixelized convolution kernels as well as some analytic profiles."
   ]
  },
  {
   "cell_type": "code",
   "execution_count": 7,
   "metadata": {},
   "outputs": [],
   "source": [
    "# import the Data() class #\n",
    "from lenstronomy.Data.imaging_data import Data\n",
    "deltaPix = 0.05  # size of pixel in angular coordinates #\n",
    "\n",
    "# setup the keyword arguments to create the Data() class #\n",
    "kwargs_data = {'numPix': 100,\n",
    "    'ra_at_xy_0': -2.5,\n",
    "    'dec_at_xy_0': -2.5, \n",
    "    'transform_pix2angle': np.array([[1, 0], [0, 1]]) * deltaPix}\n",
    "data = Data(kwargs_data)\n",
    "# return the list of pixel coordinates #\n",
    "x_coords, y_coords = data.coordinates\n",
    "# compute pixel value of a coordinate position #\n",
    "x_pos, y_pos = data.map_coord2pix(ra=0, dec=0)\n",
    "# compute the coordinate value of a pixel position #\n",
    "ra_pos, dec_pos = data.map_pix2coord(x=20, y=10)\n",
    "\n",
    "# import the PSF() class #\n",
    "from lenstronomy.Data.psf import PSF\n",
    "kwargs_psf = {'psf_type': 'GAUSSIAN', 'fwhm': 0.1, 'pixel_size': deltaPix}\n",
    "psf = PSF(kwargs_psf)\n",
    "# return the pixel kernel corresponding to a point source # \n",
    "kernel = psf.kernel_point_source"
   ]
  },
  {
   "cell_type": "markdown",
   "metadata": {},
   "source": [
    "## $\\texttt{ImSim}$ module\n",
    "The $\\texttt{ImSim}$ module simulates images. At its core is the $\\texttt{ImageModel}$ class. It is the interface to combine all the different components, $\\texttt{LensModel}$, $\\texttt{LightModel}$, $\\texttt{PointSource}$ and $\\texttt{Data}$ to model images. The $\\texttt{LightModel}$ can be used to model lens light (unlensed) or source light (lensed). $\\texttt{ImSim}$ is fully supporting all functionalities in each component. Additionaly, numerical precision arguments can be set in how to model the image."
   ]
  },
  {
   "cell_type": "markdown",
   "metadata": {},
   "source": [
    "### Simulate image\n",
    "We simulate an image with an instance of $\\texttt{ImageModel}$ that got instances of the classes we created above. We can define two different $\\texttt{LightModel}$ instances for the lens and source light. Additionally, we can define the sub-pixel ray-tracing resolution and whether the PSF convolution is applied on the higher resolution ray-tracing image or on the degraded pixel image."
   ]
  },
  {
   "cell_type": "code",
   "execution_count": 8,
   "metadata": {},
   "outputs": [],
   "source": [
    "# import the ImageModel class #\n",
    "from lenstronomy.ImSim.image_model import ImageModel\n",
    "# define the numerics #\n",
    "kwargs_numerics = {'subgrid_res': 2,\n",
    "                  'psf_subgrid': False}\n",
    "# initialize the Image model class by combining the modules we created above #\n",
    "imageModel = ImageModel(data_class=data, psf_class=psf, lens_model_class=lensModel,\n",
    "                        source_model_class=lightModel_source,\n",
    "                        lens_light_model_class=lightModel_lens,\n",
    "                        point_source_class=pointSource, \n",
    "                        kwargs_numerics=kwargs_numerics)\n",
    "# simulate image with the parameters we have defined above #\n",
    "image = imageModel.image(kwargs_lens=kwargs_lens, kwargs_source=kwargs_light_source,\n",
    "                         kwargs_lens_light=kwargs_light_lens, kwargs_ps=kwargs_ps)\n",
    "\n",
    "# we can also add noise #\n",
    "import lenstronomy.Util.image_util as image_util\n",
    "exp_time = 100  # exposure time to quantify the Poisson noise level\n",
    "background_rms = 0.1  # background rms value\n",
    "poisson = image_util.add_poisson(image, exp_time=exp_time)\n",
    "bkg = image_util.add_background(image, sigma_bkd=background_rms)\n",
    "image_noisy = image + bkg + poisson"
   ]
  },
  {
   "cell_type": "markdown",
   "metadata": {},
   "source": [
    "### Linear inversion\n",
    "Parameter corresponding to an an amplitude of a surface brightness distribution have a linear response on the predicted flux values in the data and can be infered by a linear inversion. This can reduce the number of non-linear parameters fastly, depending on the source complexity to be modelled. In the example of this notebook, we have 6 linear parameters, the 4 point source amplitudes and the amplitudes of the Sersic profile of the lens and source. *lenstronomy* automatically identifies those parameters and can recover those values (data permitting).\n"
   ]
  },
  {
   "cell_type": "code",
   "execution_count": 9,
   "metadata": {},
   "outputs": [],
   "source": [
    "# update the data with the noisy image and its noise properties #\n",
    "kwargs_data['image_data'] = image_noisy\n",
    "kwargs_data['background_rms'] = background_rms\n",
    "kwargs_data['exposure_map'] = np.ones_like(image_noisy)* exp_time\n",
    "data_class_sim = Data(kwargs_data)\n",
    "imageModel.update_data(data_class_sim)\n",
    "\n",
    "# we do not require the knowledge of the linear parameters #\n",
    "del kwargs_light_source[0]['amp']\n",
    "# apply the linear inversion to fit for the noisy image #\n",
    "image_reconstructed, _, _, _ = imageModel.image_linear_solve(kwargs_lens=kwargs_lens, kwargs_source=kwargs_light_source, \n",
    "                              kwargs_lens_light=kwargs_light_lens, kwargs_ps=kwargs_ps)"
   ]
  },
  {
   "cell_type": "markdown",
   "metadata": {},
   "source": [
    "### likelihood"
   ]
  },
  {
   "cell_type": "code",
   "execution_count": 10,
   "metadata": {},
   "outputs": [],
   "source": [
    "logL = imageModel.likelihood_data_given_model(kwargs_lens, kwargs_light_source, kwargs_light_lens, kwargs_ps)"
   ]
  },
  {
   "cell_type": "markdown",
   "metadata": {},
   "source": [
    "## $\\texttt{Sampling}$ Module\n",
    "The $\\texttt{Sampling}$ Module consists of threee major classes: The $\\texttt{Likelihood}$ class manages the specific likelihood function, consisting of the imaging likelihood and potential other data and constraints. The $\\texttt{Param}$ class handles all the model choices and the parameters going in it. These classes handle all the model choices of the user and mitigate them to the external modules and from the external modules back to *lenstronomy*.\n",
    "\n",
    "The $\\texttt{Sampler}$ class gives specific examples how the $\\texttt{Likelihood}$ and $\\texttt{Param}$ classes can be used to execute specific samplers. This last class can also be replaced by other sampling methods by the user.\n"
   ]
  },
  {
   "cell_type": "markdown",
   "metadata": {},
   "source": [
    "### $\\texttt{Param}$ class\n",
    "The $\\texttt{Param}$ class is the interface of the *lenstronomy* conventions of parameters (list of keyword arguments) and the fitting conventions of $\\texttt{CosmoHammer}$ or $\\texttt{emcee}$ (single array consisting all parameters). The $\\texttt{Param}$ class enables the user to set further options:\n",
    "\n",
    "- keep certain parameters fixed\n",
    "- handling of the linear parameters\n",
    "- provide additional constraints on the modelling (e.g. fix source profile to point source position etc)\n",
    "\n",
    "With the $\\texttt{Param}$ class, lenstronomy can be integrated robustly with other sampling methods."
   ]
  },
  {
   "cell_type": "code",
   "execution_count": 11,
   "metadata": {},
   "outputs": [
    {
     "name": "stdout",
     "output_type": "stream",
     "text": [
      "The following model options are chosen:\n",
      "Lens models: ['SPEP', 'SHEAR', 'SIS']\n",
      "Source models: ['SERSIC']\n",
      "Lens light models: ['SERSIC_ELLIPSE']\n",
      "Point source models: ['LENSED_POSITION']\n",
      "===================\n",
      "The following parameters are being fixed:\n",
      "Lens: [{'gamma': 2.0, 'theta_E': 0.9, 'e1': 0.05, 'e2': 0.05, 'center_x': 0.1, 'center_y': 0}, {'ra_0': 0, 'dec_0': 0}, {}]\n",
      "Source: [{'center_x': 0, 'center_y': 0, 'amp': 1}]\n",
      "Lens light: [{'amp': 1}]\n",
      "Point source: [{'point_amp': 1}]\n",
      "===================\n",
      "Joint parameters for different models\n",
      "Joint lens with lens: []\n",
      "Joint lens with lens light: []\n",
      "Joint source with source: []\n",
      "Joint lens with light: []\n",
      "Joint source with point source: [[0, 0, ['center_x', 'center_y']]]\n",
      "===================\n",
      "Number of non-linear parameters being sampled:  21\n",
      "Parameters being sampled:  ['e1_lens', 'e2_lens', 'theta_E_lens', 'center_x_lens', 'center_y_lens', 'R_sersic_source_light', 'n_sersic_source_light', 'R_sersic_lens_light', 'n_sersic_lens_light', 'e1_lens_light', 'e2_lens_light', 'center_x_lens_light', 'center_y_lens_light', 'ra_image', 'ra_image', 'ra_image', 'ra_image', 'dec_image', 'dec_image', 'dec_image', 'dec_image']\n",
      "Number of linear parameters being solved for:  6\n"
     ]
    }
   ],
   "source": [
    "# import the parameter handling class #\n",
    "from lenstronomy.Sampling.parameters import Param\n",
    "# set options for constraint parameters #\n",
    "kwargs_constraints = {\n",
    "                'num_point_source_list': [4],  # when modelling a doube, use [2]\n",
    "                'joint_source_with_point_source': [[0, 0]],\n",
    "                'solver_type': 'PROFILE_SHEAR',  # 'PROFILE', 'PROFILE_SHEAR', 'ELLIPSE', 'CENTER'\n",
    "               }\n",
    "# list fixed parameters #\n",
    "kwargs_fixed_lens = [{'gamma': 2.}, {'ra_0': 0, 'dec_0': 0}, {}]\n",
    "kwargs_fixed_source = [{}]\n",
    "kwargs_fixed_lens_light = [{}]\n",
    "kwargs_fixed_ps = [{}]\n",
    "\n",
    "# make instance of parameter class with given model options, constraints and fixed parameters #\n",
    "kwargs_model = {'lens_model_list': lens_model_list, 'source_light_model_list': source_light_model_list,\n",
    "               'lens_light_model_list': lens_light_model_list, 'point_source_model_list': point_source_model_list}\n",
    "param = Param(kwargs_model, kwargs_fixed_lens, kwargs_fixed_source,\n",
    "              kwargs_fixed_lens_light, kwargs_fixed_ps, kwargs_lens_init=kwargs_lens, **kwargs_constraints)\n",
    "\n",
    "# the number of non-linear parameters and their names #\n",
    "num_param, param_list = param.num_param()\n",
    "\n",
    "# parameter array for fitting routine #\n",
    "param_array = param.kwargs2args(kwargs_lens, kwargs_light_source, kwargs_light_lens, kwargs_ps)\n",
    "\n",
    "# recover keyword arguments list for lenstronomy from a parameter array of the fitting routine #\n",
    "kwargs_lens_out, kwargs_light_source_out, kwargs_light_lens_out, kwargs_ps_out, _ = param.args2kwargs(param_array)\n",
    "\n",
    "# print settings #\n",
    "param.print_setting()\n",
    "\n"
   ]
  },
  {
   "cell_type": "markdown",
   "metadata": {},
   "source": [
    "### $\\texttt{Likelihood}$ class\n",
    "\n",
    "The $\\texttt{Likelihood}$ class performs the likelihood computation. It combines the $\\texttt{ImSim}$ module with the $\\texttt{Param}$ module. The $\\texttt{Likelihood}$ class can evaluate imaging likelihoods, image position and time-delay likelihood with various options. For details we refer to the class documentation."
   ]
  },
  {
   "cell_type": "code",
   "execution_count": 12,
   "metadata": {},
   "outputs": [],
   "source": [
    "# define options of the likelihood #\n",
    "kwargs_likelihood = {'source_marg': False,\n",
    "                    'check_solver': True,\n",
    "                    'solver_tolerance': 0.001,}\n",
    "\n",
    "# import the likelihood class #\n",
    "from lenstronomy.Sampling.likelihood import LikelihoodModule\n",
    "\n",
    "# make instance of the likelihood class #\n",
    "likelihoodModule = LikelihoodModule(imSim_class=imageModel, param_class=param, **kwargs_likelihood)\n",
    "\n",
    "# execute the likelihood from an ordered parameter array #\n",
    "logL = likelihoodModule.logL(args=param_array)"
   ]
  },
  {
   "cell_type": "markdown",
   "metadata": {},
   "source": [
    "### $\\texttt{Sampler}$ class\n",
    "\n",
    "The $\\texttt{Sampler}$ class performs the sampling of the likelihood. The class requires an instance of the $\\texttt{Likelihood}$ class. This class is also meant to showcase the sampling of the *lenstronomy* likelihood. We emphasise that the specific parameter space and complexity may warry significantly and depending on the problem, different approaches can be more efficient."
   ]
  },
  {
   "cell_type": "code",
   "execution_count": 13,
   "metadata": {},
   "outputs": [
    {
     "name": "stdout",
     "output_type": "stream",
     "text": [
      "Computing the PSO ...\n"
     ]
    },
    {
     "name": "stderr",
     "output_type": "stream",
     "text": [
      "/Users/sibirrer/Library/Python/3.6/lib/python/site-packages/scipy-1.1.0-py3.6-macosx-10.13-x86_64.egg/scipy/optimize/minpack.py:163: RuntimeWarning: The iteration is not making good progress, as measured by the \n",
      "  improvement from the last ten iterations.\n",
      "  warnings.warn(msg, RuntimeWarning)\n",
      "/Users/sibirrer/Library/Python/3.6/lib/python/site-packages/scipy-1.1.0-py3.6-macosx-10.13-x86_64.egg/scipy/optimize/minpack.py:163: RuntimeWarning: The iteration is not making good progress, as measured by the \n",
      "  improvement from the last five Jacobian evaluations.\n",
      "  warnings.warn(msg, RuntimeWarning)\n"
     ]
    },
    {
     "name": "stdout",
     "output_type": "stream",
     "text": [
      "10\n",
      "20\n",
      "30\n",
      "40\n",
      "50\n",
      "60\n",
      "70\n",
      "80\n",
      "90\n",
      "100\n",
      "110\n",
      "120\n",
      "130\n",
      "140\n",
      "150\n",
      "160\n",
      "170\n",
      "180\n",
      "190\n",
      "200\n",
      "max iteration reached! stoping\n",
      "-2.546776946067372 reduced X^2 of best position\n",
      "-12699.503241564951 logL\n",
      "9973 effective number of data points\n",
      "[{'theta_E': 0.8049748435466445, 'gamma': 2.0, 'e1': 0.22672271457648038, 'e2': 0.047593960839358206, 'center_x': 0.100209041863535, 'center_y': -0.18686169141531508}, {'e1': 0.2573676358257996, 'e2': -0.05440056253775685, 'ra_0': 0, 'dec_0': 0}, {'theta_E': 0.16095206358956973, 'center_x': 0.8508355107804151, 'center_y': 0.20501828788922172}] lens result\n",
      "[{'amp': 1, 'R_sersic': 0.028097572341406363, 'n_sersic': 1.0208415118331893, 'center_x': 0.05525900138124876, 'center_y': -0.0319560792520693}] source result\n",
      "[{'amp': 1, 'R_sersic': 0.1004550478066897, 'n_sersic': 2.520030562749988, 'e1': 0.09525111344405537, 'e2': 0.15050342063979164, 'center_x': 0.0999677390952586, 'center_y': 7.345578304354696e-05}] lens light result\n",
      "[{'ra_image': array([ 1.04784265, -0.49149336,  0.16527509, -0.60598035]), 'dec_image': array([-0.01157037, -0.72683187, -0.94940919,  0.78952105]), 'point_amp': 1}] point source result\n",
      "{} cosmo result\n",
      "829.5665678977966 time used for PSO PSO\n",
      "===================\n"
     ]
    }
   ],
   "source": [
    "# initial guess of non-linear parameters, we chose different starting parameters than the truth #\n",
    "kwargs_lens_init = [{'theta_E': 1.2, 'e1': 0, 'e2': 0, 'gamma': 2., 'center_x': 0., 'center_y': 0},\n",
    "    {'e1': 0.0, 'e2': 0.01}, {'theta_E': 0.1, 'center_x': 1., 'center_y': 0}]\n",
    "kwargs_source_init = [{'R_sersic': 0.03, 'n_sersic': 1., 'center_x': 0, 'center_y': 0}]\n",
    "kwargs_lens_light_init = [{'R_sersic': 0.1, 'n_sersic': 1, 'e1': 0, 'e2': 0, 'center_x': 0, 'center_y': 0}]\n",
    "kwargs_ps_init = [{'ra_image': theta_ra+0.01, 'dec_image': theta_dec-0.01}]\n",
    "\n",
    "# initial spread in parameter estimation #\n",
    "kwargs_lens_sigma = [{'theta_E': 0.3, 'e1': 0.5, 'e2': 0.5, 'gamma': .2, 'center_x': 0.1, 'center_y': 0.1},\n",
    "    {'e1': 0.1, 'e2': 0.1}, {'theta_E': 0.1, 'center_x': .1, 'center_y': 0.1}]\n",
    "kwargs_source_sigma = [{'R_sersic': 0.1, 'n_sersic': .5, 'center_x': .1, 'center_y': 0.1}]\n",
    "kwargs_lens_light_sigma = [{'R_sersic': 0.1, 'n_sersic': 0.2, 'e1': 0.2, 'e2': 0.2, 'center_x': .1, 'center_y': 0.1}]\n",
    "kwargs_ps_sigma = [{'ra_image': [0.02] * 4, 'dec_image': [0.02] * 4}]\n",
    "\n",
    "# ordered array for sampler #\n",
    "param_init = param.kwargs2args(kwargs_lens_init, kwargs_source_init, kwargs_lens_light_init, kwargs_ps_init)\n",
    "param_sigma = param.kwargs2args(kwargs_lens_sigma, kwargs_source_sigma, kwargs_lens_light_sigma, kwargs_ps_sigma)\n",
    "\n",
    "# upper and lower range to initialise the sampler #\n",
    "upper_start = np.array(param_init) + np.array(param_sigma)\n",
    "lower_start = np.array(param_init) - np.array(param_sigma)\n",
    "\n",
    "# import the sampling class #\n",
    "from lenstronomy.Sampling.sampler import Sampler\n",
    "# initialize the Sampler class with the likelihoodModule #\n",
    "sampler = Sampler(likelihoodModule=likelihoodModule)\n",
    "\n",
    "# execute a PSO from the Sampler #\n",
    "result, chain_properties = sampler.pso(n_particles=200, n_iterations=200, lower_start=lower_start, upper_start=upper_start)\n",
    "\n",
    "# cast result back in lenstronomy conventions #\n",
    "lens_result, source_result, lens_light_result, ps_result, _ = param.args2kwargs(result)\n"
   ]
  },
  {
   "cell_type": "markdown",
   "metadata": {},
   "source": [
    "## $\\texttt{Workflow}$ Module\n",
    "The $\\texttt{Workflow}$ Module manages the execution of non-linear fitter (in our case the PSO) and the parameter inference (in our case the CosmoHammer emcee). The two main classes are $\\texttt{Param}$ and $\\texttt{FittingSequence}$. These classes handle all the model choices of the user and mitigate them to the external modules and from the external modules back to *lenstronomy*.\n",
    "\n",
    "<div class=\"alert alert-warning\">\n",
    "\n",
    "**Warning:** This particular example below works only with a 4-imaged point source. If you play around with other lens models that predict another image multiplicity, there will be an error. Please have a look at other notebooks in re-configure the modelling in those cases.\n",
    "\n",
    "</div>"
   ]
  },
  {
   "cell_type": "markdown",
   "metadata": {},
   "source": [
    "### $\\texttt{FittingSequence}$ class\n",
    "\n",
    "The $\\texttt{FittingSequence}$ class allows to perform a PSO and/or MCMC run. The user can run a sequence of fitting routines, applied one after the other with taking the results of the previous routine as an input of the next one. The user can specify (optionaly) to keep one or multiple parameter classes (lens model, source model, lens light model and source model) fixed during the fitting process or parameter inference.\n",
    "\n",
    "The user further needs to specify:\n",
    "- define input guess and uncertainties and uncertainties\n",
    "- hard bounds on parameters\n",
    "- number of particles and number of iterations being performed by the PSO/MCMC\n",
    "\n",
    "$\\texttt{FittingSequence}$ does not rely on instances of other *lenstronomy* classes. It can be constructed from elements in the form of keyword arguments and lists thereof in the *lenstronomy* conventions. This enables a save and reliable execution of tasks within $\\texttt{FittingSequence}$ on non-local platforms, such as high performance clusters."
   ]
  },
  {
   "cell_type": "markdown",
   "metadata": {},
   "source": [
    "### $\\texttt{LensModelPlot}$ class\n",
    "The $\\texttt{LensModelPlot}$ facilitates the plotting of models, comparison with the data etc. This class is also meant to illustrate the post-processing."
   ]
  },
  {
   "cell_type": "code",
   "execution_count": null,
   "metadata": {},
   "outputs": [],
   "source": []
  }
 ],
 "metadata": {
  "kernelspec": {
   "display_name": "Python 3",
   "language": "python",
   "name": "python3"
  },
  "language_info": {
   "codemirror_mode": {
    "name": "ipython",
    "version": 3
   },
   "file_extension": ".py",
   "mimetype": "text/x-python",
   "name": "python",
   "nbconvert_exporter": "python",
   "pygments_lexer": "ipython3",
   "version": "3.6.6"
  }
 },
 "nbformat": 4,
 "nbformat_minor": 2
}
