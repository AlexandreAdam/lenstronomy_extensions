{
 "cells": [
  {
   "cell_type": "markdown",
   "metadata": {},
   "source": [
    "# lens kinematics modelling with lenstronomy\n",
    "This notebook should guide you through the lensing kinematics modelling available within lenstronomy and provides some simple use cases. Please go through this notebook carefully as there are some pits and falls in the numerics that may impact your modelling when you're not aware of it."
   ]
  },
  {
   "cell_type": "code",
   "execution_count": 4,
   "metadata": {
    "collapsed": true
   },
   "outputs": [],
   "source": [
    "import matplotlib.pyplot as plt\n",
    "%matplotlib inline"
   ]
  },
  {
   "cell_type": "markdown",
   "metadata": {},
   "source": [
    "## modelling setup\n",
    "First, we set up a lens light model and a mass model in lensing terms, as provided by lenstronomy. The units of all the quantities are given in arc seconds.\n",
    "\n",
    "\n",
    "We give two light proviles and one singular isothermal sphere lens model. The following conditions have to be valide to assure that the modelling provides a sensual answer:\n",
    "- the light and mass profile have to be well alligned\n",
    "- the kinematic modelling of lenstronomy assumes a spherical symmetry, so if the axis ratio of either mass or light model are far of from spherical, the assumption may not be valid\n"
   ]
  },
  {
   "cell_type": "code",
   "execution_count": 10,
   "metadata": {},
   "outputs": [],
   "source": [
    "kwargs_hernquist = {'sigma0': 10, 'Rs': 0.5, 'center_x': 0, 'center_y': 0}\n",
    "kwargs_sersic = {'I0_sersic': 10, 'R_sersic': 1., 'n_sersic': 2, 'center_x': 0, 'center_y': 0}\n",
    "\n",
    "lens_model_list = ['SIS']\n",
    "kwargs_lens = [{'theta_E': 1, 'center_x': 0, 'center_y': 0}]"
   ]
  },
  {
   "cell_type": "markdown",
   "metadata": {},
   "source": [
    "## $\\texttt{GalKin}$ module "
   ]
  },
  {
   "cell_type": "code",
   "execution_count": null,
   "metadata": {
    "collapsed": true
   },
   "outputs": [],
   "source": []
  }
 ],
 "metadata": {
  "kernelspec": {
   "display_name": "Python 2",
   "language": "python",
   "name": "python2"
  },
  "language_info": {
   "codemirror_mode": {
    "name": "ipython",
    "version": 2
   },
   "file_extension": ".py",
   "mimetype": "text/x-python",
   "name": "python",
   "nbconvert_exporter": "python",
   "pygments_lexer": "ipython2",
   "version": "2.7.10"
  }
 },
 "nbformat": 4,
 "nbformat_minor": 2
}
