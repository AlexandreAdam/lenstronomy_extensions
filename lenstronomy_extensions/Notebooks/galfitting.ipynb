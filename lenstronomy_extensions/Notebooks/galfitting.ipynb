{
 "cells": [
  {
   "cell_type": "markdown",
   "metadata": {},
   "source": [
    "# \"Galfitting\" with lenstronomy\n",
    "An example of using **lenstronomy** without imposing a lensing deflector is the inference of galaxy structural parameters through the fitting of a parameterized surface brightness model (or many thereof).\n",
    "\n",
    "Specific software packages and algorithm that are designed to perform these tasks may well be faster and more optimized. However, we want to demonstrate the flexibility of **lenstronomy**. Matching the structural properties of lensing and source galaxy is an integral part of lens modelling. Where speed may not be the primary requirement, **lenstronomy** may provide an alternative in python.\n",
    "\n"
   ]
  },
  {
   "cell_type": "code",
   "execution_count": null,
   "metadata": {
    "collapsed": true
   },
   "outputs": [],
   "source": [
    "# some standard python imports #\n",
    "import numpy as np\n",
    "import matplotlib.pyplot as plt\n",
    "%matplotlib inline"
   ]
  },
  {
   "cell_type": "markdown",
   "metadata": {},
   "source": [
    "## create mock image as a superposition of different profiles\n",
    "In the example below, we generate a galaxy image with a two component Sersic profile at the same center and a compagnion Hernquist light distribution. The data quality is comparable with wide field surveys."
   ]
  },
  {
   "cell_type": "code",
   "execution_count": null,
   "metadata": {},
   "outputs": [],
   "source": [
    "from lenstronomy.SimulationAPI.simulations import Simulation\n",
    "SimAPI = Simulation()\n",
    "\n",
    "# data specifics\n",
    "sigma_bkg = .05  # background noise per pixel\n",
    "exp_time = 100  # exposure time (arbitrary units, flux per pixel is in units #photons/exp_time unit)\n",
    "numPix = 50  # cutout pixel size\n",
    "deltaPix = 0.3  # pixel size in arcsec (area per pixel = deltaPix**2)\n",
    "fwhm = 0.8  # full width half max of PSF\n",
    "\n",
    "data_class = SimAPI.data_configure(numPix, deltaPix, exp_time, sigma_bkg)\n",
    "# PSF specification\n",
    "psf_class = SimAPI.psf_configure(psf_type='GAUSSIAN', fwhm=fwhm, kernelsize=31, deltaPix=deltaPix, truncate=6, kernel=None)\n",
    "\n",
    "# create a model with three Sersic profiles\n",
    "# all the models are part of 'lens_light_model_list', meaning that their surface brightness profile are not lensed\n",
    "lens_light_model_list = ['SERSIC_ELLIPSE', 'SERSIC_ELLIPSE', 'HERNQUIST']\n",
    "from lenstronomy.LightModel.light_model import LightModel\n",
    "lightModel = LightModel(lens_light_model_list)\n",
    "\n",
    "kwargs_1 = {'I0_sersic': 10, 'R_sersic': .5, 'n_sersic': 3, 'q': .9, 'phi_G': 0.5, 'center_x': 0, 'center_y': 0}\n",
    "kwargs_2 = {'I0_sersic': 10, 'R_sersic': 1.5, 'n_sersic': 1, 'q': .6, 'phi_G': 0.7, 'center_x': 0, 'center_y': 0}\n",
    "kwargs_3 = {'sigma0': 10, 'Rs': 0.3, 'center_x': 3.5, 'center_y': -0.5}\n",
    "kwargs_light = [kwargs_1, kwargs_2, kwargs_3]\n",
    "\n",
    "kwargs_numerics = {'subgrid_res': 2}\n",
    "from lenstronomy.ImSim.image_model import ImageModel\n",
    "imageModel = ImageModel(data_class, psf_class, lens_light_model_class=lightModel, kwargs_numerics=kwargs_numerics)\n",
    "image_sim = SimAPI.simulate(imageModel, kwargs_lens_light=kwargs_light)\n",
    "\n",
    "data_class.update_data(image_sim)\n",
    "\n",
    "plt.matshow(np.log10(image_sim), origin='lower')\n",
    "plt.show()\n"
   ]
  },
  {
   "cell_type": "code",
   "execution_count": null,
   "metadata": {},
   "outputs": [],
   "source": [
    "\n",
    "kwargs_model = {'lens_light_model_list': lens_light_model_list}\n",
    "kwargs_constraints = {'joint_center_lens_light': False}\n",
    "kwargs_numerics_galfit = {'subgrid_res': 2}\n",
    "kwargs_likelihood = {'check_bounds': True}\n",
    "\n",
    "kwargs_data = data_class.constructor_kwargs()\n",
    "kwargs_psf = psf_class.constructor_kwargs()\n",
    "image_band = [kwargs_data, kwargs_psf, kwargs_numerics_galfit]\n",
    "multi_band_list = [image_band]\n",
    "\n"
   ]
  },
  {
   "cell_type": "code",
   "execution_count": null,
   "metadata": {},
   "outputs": [],
   "source": [
    "\n",
    "# lens light model choices\n",
    "fixed_lens_light = []\n",
    "kwargs_lens_light_init = []\n",
    "kwargs_lens_light_sigma = []\n",
    "kwargs_lower_lens_light = []\n",
    "kwargs_upper_lens_light = []\n",
    "\n",
    "# first Sersic component\n",
    "fixed_lens_light.append({})\n",
    "kwargs_lens_light_init.append({'R_sersic': .1, 'n_sersic': 4, 'q': 1., 'phi_G': 0., 'center_x': 0, 'center_y': 0})\n",
    "kwargs_lens_light_sigma.append({'n_sersic_sigma': 0.5, 'R_sersic_sigma': 0.2, 'ellipse_sigma': 0.1, 'center_x_sigma': 0.1, 'center_y_sigma': 0.1})\n",
    "kwargs_lower_lens_light.append({'q': .5, 'phi_G': 0, 'R_sersic': 0.01, 'n_sersic': 0.5, 'center_x': -10, 'center_y': -10})\n",
    "kwargs_upper_lens_light.append({'q': .5, 'phi_G': 0, 'R_sersic': 10, 'n_sersic': 8, 'center_x': 10, 'center_y': 10})\n",
    "\n",
    "# second Sersic component\n",
    "fixed_lens_light.append({})\n",
    "kwargs_lens_light_init.append({'R_sersic': .5, 'n_sersic': 1, 'q': 1., 'phi_G': 0., 'center_x': 0, 'center_y': 0})\n",
    "kwargs_lens_light_sigma.append({'n_sersic_sigma': 0.5, 'R_sersic_sigma': 0.2, 'ellipse_sigma': 0.1, 'center_x_sigma': 0.1, 'center_y_sigma': 0.1})\n",
    "kwargs_lower_lens_light.append({'q': .5, 'phi_G': 0, 'R_sersic': 0.01, 'n_sersic': 0.5, 'center_x': -10, 'center_y': -10})\n",
    "kwargs_upper_lens_light.append({'q': .5, 'phi_G': 0, 'R_sersic': 10, 'n_sersic': 8, 'center_x': 10, 'center_y': 10})\n",
    "\n",
    "# Hernquist component\n",
    "fixed_lens_light.append({})\n",
    "kwargs_lens_light_init.append({'Rs': 0.7, 'center_x': 3., 'center_y': 0.})\n",
    "kwargs_lens_light_sigma.append({'Rs_sigma': 0.3, 'center_x_sigma': 0.5, 'center_y_sigma': 0.5})\n",
    "kwargs_lower_lens_light.append({'Rs': 0.01, 'center_x': -10, 'center_y': -10})\n",
    "kwargs_upper_lens_light.append({'Rs': 10, 'center_x': 10, 'center_y': 10})\n",
    "\n",
    "fixed_lens, kwargs_lens_init, kwargs_lens_sigma, kwargs_lower_lens, kwargs_upper_lens  = [{}], [{}], [{}], [{}], [{}]\n",
    "fixed_source, kwargs_source_init, kwargs_source_sigma, kwargs_lower_source, kwargs_upper_source = [{}], [{}], [{}], [{}], [{}]\n",
    "fixed_ps, kwargs_ps_init, kwargs_ps_sigma, kwargs_lower_ps, kwargs_upper_ps = [{}], [{}], [{}], [{}], [{}]\n",
    "\n",
    "kwargs_fixed = [fixed_lens, fixed_source, fixed_lens_light, fixed_ps]\n",
    "kwargs_init = [kwargs_lens_init, kwargs_source_init, kwargs_lens_light_init, kwargs_ps_init]\n",
    "kwargs_sigma = [kwargs_lens_sigma, kwargs_source_sigma, kwargs_lens_light_sigma, kwargs_ps_sigma]\n",
    "kwargs_lower = [kwargs_lower_lens, kwargs_lower_source, kwargs_lower_lens_light, kwargs_lower_ps]\n",
    "kwargs_upper = [kwargs_upper_lens, kwargs_upper_source, kwargs_upper_lens_light, kwargs_upper_ps]\n",
    "kwargs_params = [kwargs_init, kwargs_sigma, kwargs_fixed, kwargs_lower, kwargs_upper]\n",
    "\n",
    "\n",
    "from lenstronomy.Workflow.fitting_sequence import FittingSequence\n",
    "fitting_seq = FittingSequence(multi_band_list, kwargs_model, kwargs_constraints, kwargs_likelihood, kwargs_params)\n",
    "\n",
    "fitting_kwargs_list = [\n",
    "        {'fitting_routine': 'PSO', 'mpi': False, 'sigma_scale': 1., 'n_particles': 200,\n",
    "         'n_iterations': 200}]\n",
    "\n",
    "lens_result, source_result, lens_light_result, ps_result, chain_list, param_list, samples_mcmc, param_mcmc, dist_mcmc = fitting_seq.fit_sequence(fitting_kwargs_list)\n",
    "\n"
   ]
  },
  {
   "cell_type": "code",
   "execution_count": null,
   "metadata": {},
   "outputs": [],
   "source": [
    "from lenstronomy.Plots.output_plots import LensModelPlot\n",
    "import lenstronomy.Plots.output_plots as out_plot\n",
    "\n",
    "lensPlot = LensModelPlot(kwargs_data, kwargs_psf, kwargs_numerics, kwargs_model, lens_result, source_result,\n",
    "                             lens_light_result, ps_result, arrow_size=0.02, cmap_string=\"gist_heat\", high_res=5)\n",
    "\n",
    "for i in range(len(chain_list)):\n",
    "        if len(param_list[i]) > 0:\n",
    "            f, axes = out_plot.plot_chain(chain_list[i], param_list[i])\n",
    "\n",
    "f, axes = plt.subplots(1, 3, figsize=(16, 8), sharex=False, sharey=False)\n",
    "\n",
    "lensPlot.data_plot(ax=axes[0])\n",
    "lensPlot.model_plot(ax=axes[1])\n",
    "lensPlot.normalized_residual_plot(ax=axes[2], v_min=-6, v_max=6)\n",
    "f.tight_layout()\n",
    "#f.subplots_adjust(left=None, bottom=None, right=None, top=None, wspace=0., hspace=0.05)\n",
    "plt.show()\n",
    "\n",
    "f, axes = plt.subplots(1, 3, figsize=(16, 8), sharex=False, sharey=False)\n",
    "\n",
    "lensPlot.decomposition_plot(ax=axes[0], text='Lens light', lens_light_add=True, unconvolved=True)\n",
    "lensPlot.decomposition_plot(ax=axes[1], text='Lens light convolved', lens_light_add=True)\n",
    "lensPlot.subtract_from_data_plot(ax=axes[2], text='Data - Lens Light', lens_light_add=True)\n",
    "f.tight_layout()\n",
    "#f.subplots_adjust(left=None, bottom=None, right=None, top=None, wspace=0., hspace=0.05)\n",
    "plt.show()\n",
    "print lens_light_result"
   ]
  },
  {
   "cell_type": "code",
   "execution_count": null,
   "metadata": {
    "collapsed": true
   },
   "outputs": [],
   "source": []
  }
 ],
 "metadata": {
  "kernelspec": {
   "display_name": "Python 2",
   "language": "python",
   "name": "python2"
  },
  "language_info": {
   "codemirror_mode": {
    "name": "ipython",
    "version": 2
   },
   "file_extension": ".py",
   "mimetype": "text/x-python",
   "name": "python",
   "nbconvert_exporter": "python",
   "pygments_lexer": "ipython2",
   "version": "2.7.10"
  }
 },
 "nbformat": 4,
 "nbformat_minor": 2
}
